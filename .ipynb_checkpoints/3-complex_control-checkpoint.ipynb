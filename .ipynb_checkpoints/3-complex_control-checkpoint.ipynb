{
 "cells": [
  {
   "cell_type": "markdown",
   "id": "c07f8d53-124b-4a52-8dad-cd69cb0bbdad",
   "metadata": {},
   "source": [
    "# 3 Complex Instruction - Detecting the Wind Turbine"
   ]
  },
  {
   "cell_type": "markdown",
   "id": "c042afa7-7888-46bc-964d-3440f23821f8",
   "metadata": {},
   "source": [
    "## Complex Task Execution Methods\n",
    "\n",
    "- **Manual Observation, Drone Executes Step-by-Step**: Basic usage, where the operator observes and controls each step of the drone's execution.  \n",
    "- **Manual Workflow Design, Drone Executes Step-by-Step**: The operator defines the entire workflow in advance, and the drone executes each step sequentially.  \n",
    "- **Autonomous Perception and Execution by the Drone**: The drone perceives the environment on its own and executes tasks independently. This involves Agent-based control and embodied intelligence."
   ]
  },
  {
   "cell_type": "markdown",
   "id": "9d8cd84b-67d0-4c63-adaf-497ee25e58cc",
   "metadata": {},
   "source": [
    "## Task for This Section - Wind Turbine Blade Inspection\n",
    "\n",
    "**Specific Requirements:**\n",
    "- The drone needs to complete the mission with the assistance of a pilot. It should perform wind turbine blade inspection tasks.\n",
    "- It should execute one command at a time, then wait for the next instruction.\n",
    "- The commands are relatively simple and do not involve complex task planning."
   ]
  },
  {
   "cell_type": "code",
   "execution_count": 9,
   "id": "aedce3ee-d709-4aa9-bdda-b05e3955146b",
   "metadata": {
    "ExecuteTime": {
     "end_time": "2025-03-15T09:06:30.963877Z",
     "start_time": "2025-03-15T09:06:30.941603Z"
    }
   },
   "outputs": [],
   "source": [
    "# Construct a new prompt and write it into aisim_lesson25.txt\n",
    "\n",
    "kg_promot_file = \"prompts/aisim_lession25.txt\"\n",
    "\n",
    "kg_prompt = \"\"\"\n",
    "Below are some functions you can use to command the drone:\n",
    "\n",
    "- `aw.takeoff()` - Takes off the drone.  \n",
    "- `aw.land()` - Lands the drone.  \n",
    "- `aw.get_drone_position()` - Returns the current position of the drone as a list of three floating-point numbers corresponding to the X, Y, and Z coordinates.  \n",
    "- `aw.fly_to([x, y, z])` - Flies the drone to the specified position, given as a list of three parameters corresponding to the X, Y, and Z coordinates.  \n",
    "- `aw.get_position(object_name)` - Accepts a string input indicating the name of the object of interest, and returns a list of three floating-point numbers representing its X, Y, and Z coordinates.\n",
    "\n",
    "The following objects exist in the scene, and you should refer to them using **exactly** these names:\n",
    "\n",
    "**WindTurbine1, WindTurbine2, SolarPanels, Car, Crowd, Tower1, Tower2, Tower3**\n",
    "\n",
    "Please note that when calling functions, if you're using a non-English language, you should use the English identifiers listed below for object names. For example, in Chinese:\n",
    "\n",
    "- `turbine1`: 风力发电机1  \n",
    "- `turbine2`: 风力发电机2  \n",
    "- `solarpanels`: 太阳能电池板  \n",
    "- `car`: 汽车  \n",
    "- `crowd`: 人群  \n",
    "- `tower1`: 塔1  \n",
    "- `tower2`: 塔2  \n",
    "- `tower3`: 塔3  \n",
    "\n",
    "For example, to get the position of WindTurbine1, you would write:  \n",
    "```python\n",
    "aw.get_position(\"turbine1\")\n",
    "```  \n",
    "instead of:  \n",
    "```python\n",
    "aw.get_position(\"风力发电机1\")\n",
    "```\n",
    "\n",
    "Regarding coordinate system conventions, we use the **NED (\"North-East-Down\")** coordinate system, where:\n",
    "- +X is North  \n",
    "- +Y is East  \n",
    "- +Z is Down  \n",
    "\n",
    "This means that higher Z values are more negative. If the origin is on the ground, then the Z value is zero at ground level, and flying upward results in a negative Z value (i.e., flying up reduces the Z coordinate).\n",
    "\n",
    "All objects other than the drone itself are stationary. Also, please remember that there are two turbines and three towers. When multiple objects of the same type exist, **you should always ask for clarification** if it’s not explicitly stated which one is being referred to. **Never make assumptions.**\n",
    "\n",
    "Please respond in the following format:  \n",
    "```python\n",
    "i=1  # Here, output the Python code\n",
    "```\n",
    "This code function is for assignment.\n",
    "\n",
    "You do not need to worry about importing `aw`, as it has already been declared in the environment.\n",
    "\"\"\"\n",
    "\n",
    "pt_file = open(kg_promot_file, \"w\", encoding=\"utf-8\")\n",
    "pt_file.write(kg_prompt)\n",
    "pt_file.close()"
   ]
  },
  {
   "cell_type": "code",
   "execution_count": 1,
   "id": "b1845a4d-0f62-4cd6-8546-325d08a885c3",
   "metadata": {
    "ExecuteTime": {
     "end_time": "2025-03-15T09:46:29.214115Z",
     "start_time": "2025-03-15T09:46:26.616914Z"
    }
   },
   "outputs": [
    {
     "name": "stdout",
     "output_type": "stream",
     "text": [
      "Connected!\n",
      "Client Ver:1 (Min Req: 1), Server Ver:1 (Min Req: 1)\n",
      "\n"
     ]
    }
   ],
   "source": [
    "# ! you need run airsim first\n",
    "import airsim_agent\n",
    "my_agent = airsim_agent.AirSimAgent(knowledge_prompt=\"prompts/aisim_lession25.txt\")"
   ]
  },
  {
   "cell_type": "code",
   "execution_count": 2,
   "id": "4d8a7eae-474c-4af3-9dff-1a077ab7c4c9",
   "metadata": {
    "ExecuteTime": {
     "end_time": "2025-03-15T09:46:34.481963Z",
     "start_time": "2025-03-15T09:46:30.151687Z"
    }
   },
   "outputs": [
    {
     "name": "stdout",
     "output_type": "stream",
     "text": [
      "python_code: \n",
      " aw.takeoff()\n",
      "\n"
     ]
    }
   ],
   "source": [
    "command = \"take off\"\n",
    "python_code = my_agent.process(command, True) #run the code\n",
    "print(\"python_code: \\n\", python_code)"
   ]
  },
  {
   "cell_type": "code",
   "execution_count": 3,
   "id": "46fea4e2-bcf3-4067-8e4b-49b9d9b08b14",
   "metadata": {
    "ExecuteTime": {
     "end_time": "2025-03-15T09:47:04.401015Z",
     "start_time": "2025-03-15T09:46:36.888539Z"
    }
   },
   "outputs": [
    {
     "name": "stdout",
     "output_type": "stream",
     "text": [
      "python_code: \n",
      " # 获取风力发电机1的位置\n",
      "turbine1_position = aw.get_position(\"turbine1\")\n",
      "# 计算目标位置，沿X轴方向在风力发电机1位置前10米\n",
      "target_x = turbine1_position[0] - 10\n",
      "target_y = turbine1_position[1]\n",
      "target_z = turbine1_position[2]\n",
      "target_position = [target_x, target_y, target_z]\n",
      "# 让无人机飞到目标位置\n",
      "aw.fly_to(target_position)\n",
      "\n"
     ]
    }
   ],
   "source": [
    "command = \"Please fly toward WindTurbine1 along the X-axis ection and stop 10 meters before reaching it\"\n",
    "python_code = my_agent.process(command, True) #run the code\n",
    "print(\"python_code: \\n\", python_code)"
   ]
  },
  {
   "cell_type": "code",
   "execution_count": 4,
   "id": "80958d74-51d0-4574-a2ac-860bba460ea7",
   "metadata": {
    "ExecuteTime": {
     "end_time": "2025-03-15T09:31:30.153520Z",
     "start_time": "2025-03-15T09:31:08.582843Z"
    }
   },
   "outputs": [
    {
     "name": "stdout",
     "output_type": "stream",
     "text": [
      "python_code: \n",
      " turbine2_pos = aw.get_position(\"turbine2\")\n",
      "target_x = turbine2_pos[0] - 12\n",
      "target_y = turbine2_pos[1]\n",
      "target_z = -50  # 高度50米，因为+Z是下，所以取负\n",
      "aw.fly_to([target_x, target_y, target_z])#此代码功能为让无人机沿X轴保持距离风力发电机2 12米飞向它，且高度达到50米\n",
      "\n"
     ]
    }
   ],
   "source": [
    "command = \"Continue flying toward WindTurbine2 along the X-axis, maintaining a distance of 12 meters from it, and fly towards WindTurbine2 until reaching an altitude of 50 meters.\"\n",
    "python_code = my_agent.process(command, True) #run the code\n",
    "print(\"python_code: \\n\", python_code)"
   ]
  },
  {
   "cell_type": "code",
   "execution_count": 5,
   "id": "2ee640445237a920",
   "metadata": {
    "ExecuteTime": {
     "end_time": "2025-03-15T09:31:51.444833Z",
     "start_time": "2025-03-15T09:31:34.873069Z"
    }
   },
   "outputs": [
    {
     "name": "stdout",
     "output_type": "stream",
     "text": [
      "python_code: current_pos = aw.get_drone_position()\n",
      "target_up_z = current_pos[2] - 30\n",
      "target_up_pos = [current_pos[0], current_pos[1], target_up_z]\n",
      "aw.fly_to(target_up_pos)\n",
      "aw.fly_to(current_pos)#此代码功能为让无人机飞到当前位置上方30米，然后再回到当前位置\n",
      "\n"
     ]
    }
   ],
   "source": [
    "command = \"Now let's start inspecting the blades of the wind turbine. The first blade is pointing straight upward. Please fly 30 meters above your current position, then fly downward again. Note that when flying upward, the Z-axis value decreases\"\n",
    "python_code = my_agent.process(command, True) #run the code\n",
    "print(\"python_code:\", python_code)"
   ]
  },
  {
   "cell_type": "code",
   "execution_count": 6,
   "id": "1824140d1a31607",
   "metadata": {
    "ExecuteTime": {
     "end_time": "2025-03-15T09:32:26.398554Z",
     "start_time": "2025-03-15T09:32:06.939323Z"
    }
   },
   "outputs": [
    {
     "name": "stdout",
     "output_type": "stream",
     "text": [
      "python_code: import math\n",
      "\n",
      "# 获取当前无人机位置\n",
      "current_pos = aw.get_drone_position()\n",
      "\n",
      "# 计算目标位置\n",
      "distance = 30\n",
      "angle = math.radians(30)  # 将角度转换为弧度\n",
      "\n",
      "# 在YZ平面上计算偏移量\n",
      "delta_y = distance * math.cos(angle)\n",
      "delta_z = distance * math.sin(angle)\n",
      "\n",
      "# 计算目标位置\n",
      "target_y = current_pos[1] + delta_y\n",
      "target_z = current_pos[2] + delta_z\n",
      "target_x = current_pos[0]\n",
      "target_pos = [target_x, target_y, target_z]\n",
      "\n",
      "# 飞向目标位置\n",
      "aw.fly_to(target_pos)\n",
      "\n",
      "# 返回当前位置\n",
      "aw.fly_to(current_pos)\n",
      "# 此代码功能为让无人机以与水平轴Y成30度角的右下方向在YZ平面飞行30米，然后返回当前位置\n",
      "\n"
     ]
    }
   ],
   "source": [
    "command = \"To inspect the second blade, I need you to fly in a direction that is 30 degrees below the horizontal Y-axis (toward the right and downward). You should fly a distance of 30 meters in the YZ plane, then return to your current position.\"\n",
    "python_code = my_agent.process(command, True) #run the code\n",
    "print(\"python_code:\", python_code)"
   ]
  },
  {
   "cell_type": "code",
   "execution_count": 7,
   "id": "48ba053c329efa80",
   "metadata": {
    "ExecuteTime": {
     "end_time": "2025-03-15T09:33:16.294303Z",
     "start_time": "2025-03-15T09:32:56.318809Z"
    }
   },
   "outputs": [
    {
     "name": "stdout",
     "output_type": "stream",
     "text": [
      "python_code: import math\n",
      "\n",
      "# 获取无人机当前位置\n",
      "current_pos = aw.get_drone_position()\n",
      "\n",
      "# 计算在 YZ 平面上飞行 30 米，与水平轴 Y 成 30 度角（左下方向）的偏移量\n",
      "distance = 30\n",
      "angle = math.radians(30)\n",
      "delta_y = distance * math.cos(angle)\n",
      "delta_z = distance * math.sin(angle)\n",
      "\n",
      "# 计算目标位置，左下方向 Y 轴是减少，Z 轴是增加\n",
      "target_y = current_pos[1] - delta_y\n",
      "target_z = current_pos[2] + delta_z\n",
      "target_x = current_pos[0]\n",
      "target_pos = [target_x, target_y, target_z]\n",
      "\n",
      "# 飞向目标位置\n",
      "aw.fly_to(target_pos)\n",
      "\n",
      "# 返回当前位置\n",
      "aw.fly_to(current_pos)\n",
      "# 此代码功能为让无人机以与水平轴 Y 成 30 度角的左下方向在 YZ 平面飞行 30 米，然后返回当前位置\n",
      "\n"
     ]
    }
   ],
   "source": [
    "command = \"To inspect the third blade, I need you to fly in a direction that is 30 degrees below the horizontal Y-axis (toward the left and downward). You should fly a distance of 30 meters in the YZ plane, then return to your current position.\"\n",
    "python_code = my_agent.process(command, True) #run the code\n",
    "print(\"python_code:\", python_code)"
   ]
  },
  {
   "cell_type": "code",
   "execution_count": 9,
   "id": "83249dd28190fab",
   "metadata": {
    "ExecuteTime": {
     "end_time": "2025-03-15T09:34:58.796037Z",
     "start_time": "2025-03-15T09:33:33.256868Z"
    }
   },
   "outputs": [
    {
     "name": "stdout",
     "output_type": "stream",
     "text": [
      "python_code: import math\n",
      "\n",
      "# 起飞\n",
      "aw.takeoff()\n",
      "\n",
      "# 飞向风力发电机1沿X轴方向10米前的位置\n",
      "turbine1_pos = aw.get_position(\"turbine1\")\n",
      "target_x = turbine1_pos[0] - 10\n",
      "target_y = turbine1_pos[1]\n",
      "target_z = turbine1_pos[2]\n",
      "aw.fly_to([target_x, target_y, target_z])\n",
      "\n",
      "# 飞向风力发电机2，沿X轴保持距离12米，高度50米\n",
      "turbine2_pos = aw.get_position(\"turbine2\")\n",
      "target_x = turbine2_pos[0] - 12\n",
      "target_y = turbine2_pos[1]\n",
      "target_z = -50\n",
      "aw.fly_to([target_x, target_y, target_z])\n",
      "\n",
      "# 检查第一个叶片，飞到当前位置上方30米\n",
      "current_pos = aw.get_drone_position()\n",
      "target_up_z = current_pos[2] - 30\n",
      "target_up_pos = [current_pos[0], current_pos[1], target_up_z]\n",
      "aw.fly_to(target_up_pos)\n",
      "aw.fly_to(current_pos)\n",
      "\n",
      "# 检查第二个叶片，以与水平轴Y成30度角的右下方向飞行30米\n",
      "distance = 30\n",
      "angle = math.radians(30)\n",
      "delta_y = distance * math.cos(angle)\n",
      "delta_z = distance * math.sin(angle)\n",
      "target_y = current_pos[1] + delta_y\n",
      "target_z = current_pos[2] + delta_z\n",
      "target_x = current_pos[0]\n",
      "target_pos = [target_x, target_y, target_z]\n",
      "aw.fly_to(target_pos)\n",
      "aw.fly_to(current_pos)\n",
      "\n",
      "# 检查第三个叶片，以与水平轴Y成30度角的左下方向飞行30米，最后不返回\n",
      "distance = 30\n",
      "angle = math.radians(30)\n",
      "delta_y = distance * math.cos(angle)\n",
      "delta_z = distance * math.sin(angle)\n",
      "target_y = current_pos[1] - delta_y\n",
      "target_z = current_pos[2] + delta_z\n",
      "target_x = current_pos[0]\n",
      "target_pos = [target_x, target_y, target_z]\n",
      "aw.fly_to(target_pos)\n",
      "\n",
      "# 此代码功能为将之前的动作串联起来，最后检查第三个叶片飞行后不返回\n",
      "\n"
     ]
    }
   ],
   "source": [
    "command = \"Now let's chain together the three movements for inspecting the blades. I need you to repeat what you just did, but this time, do not return to the starting position at the end—just stop where you are.\"\n",
    "python_code = my_agent.process(command, True) #run the code\n",
    "print(\"python_code:\", python_code)"
   ]
  },
  {
   "cell_type": "code",
   "execution_count": 10,
   "id": "a3f869781a294f7e",
   "metadata": {
    "ExecuteTime": {
     "end_time": "2025-03-15T09:35:29.743478Z",
     "start_time": "2025-03-15T09:35:14.417351Z"
    }
   },
   "outputs": [
    {
     "name": "stdout",
     "output_type": "stream",
     "text": [
      "python_code: # 获取当前无人机位置\n",
      "current_pos = aw.get_drone_position()\n",
      "\n",
      "# 假设间隙为 5 米，计算目标位置\n",
      "target_x = current_pos[0] + 20 + 5\n",
      "target_y = current_pos[1]\n",
      "target_z = current_pos[2]\n",
      "target_pos = [target_x, target_y, target_z]\n",
      "\n",
      "# 飞到目标位置\n",
      "aw.fly_to(target_pos)\n",
      "\n",
      "# 将无人机旋转 180 度\n",
      "aw.set_yaw(180)\n",
      "# 此代码功能为让无人机飞到风力发电机后面，在 X 轴上飞行 20 米并加上 5 米间隙，然后将无人机旋转 180 度\n",
      "\n"
     ]
    }
   ],
   "source": [
    "command = \"Now move forward and fly behind the wind turbine. Fly 20 meters along the X-axis, add a few extra meters of clearance, then rotate the drone 180 degrees. You can use the `set_yaw()` function to rotate the drone.\"\n",
    "python_code = my_agent.process(command, True) #run the code\n",
    "print(\"python_code:\", python_code)"
   ]
  },
  {
   "cell_type": "code",
   "execution_count": 11,
   "id": "92fee2c1bce5f18c",
   "metadata": {
    "ExecuteTime": {
     "end_time": "2025-03-15T09:36:07.559374Z",
     "start_time": "2025-03-15T09:35:55.557458Z"
    }
   },
   "outputs": [
    {
     "name": "stdout",
     "output_type": "stream",
     "text": [
      "python_code: import math\n",
      "\n",
      "# 获取当前无人机位置\n",
      "current_pos = aw.get_drone_position()\n",
      "\n",
      "# 计算在 YZ 平面上飞行 30 米，与水平轴 Y 成 30 度角（右上角方向）的偏移量\n",
      "distance = 30\n",
      "angle = math.radians(30)\n",
      "delta_y = distance * math.cos(angle)\n",
      "delta_z = -distance * math.sin(angle)  # 右上角方向 Z 轴是减少\n",
      "\n",
      "# 计算目标位置\n",
      "target_y = current_pos[1] + delta_y\n",
      "target_z = current_pos[2] + delta_z\n",
      "target_x = current_pos[0]\n",
      "target_pos = [target_x, target_y, target_z]\n",
      "\n",
      "# 飞向目标位置\n",
      "aw.fly_to(target_pos)\n",
      "# 此代码功能为让无人机朝右上角方向在 YZ 平面飞行 30 米后停下，用于检查叶片背面\n",
      "\n"
     ]
    }
   ],
   "source": [
    "command = \"Great! Now I want you to inspect the back side of the blades. This means you will do the exact opposite of what you did before — that is, first fly 30 meters in the direction of the upper right diagonal, then stop.\"\n",
    "python_code = my_agent.process(command, True) #run the code\n",
    "print(\"python_code:\", python_code)"
   ]
  },
  {
   "cell_type": "code",
   "execution_count": 12,
   "id": "7c6acb6d13e346c2",
   "metadata": {
    "ExecuteTime": {
     "end_time": "2025-03-15T09:37:45.058396Z",
     "start_time": "2025-03-15T09:37:27.120297Z"
    }
   },
   "outputs": [
    {
     "name": "stdout",
     "output_type": "stream",
     "text": [
      "python_code: # 获取当前无人机位置\n",
      "current_pos = aw.get_drone_position()\n",
      "\n",
      "# 计算向上 30 米后的目标位置\n",
      "target_up_z = current_pos[2] - 30\n",
      "target_up_pos = [current_pos[0], current_pos[1], target_up_z]\n",
      "\n",
      "# 飞到上方 30 米处\n",
      "aw.fly_to(target_up_pos)\n",
      "\n",
      "# 飞回当前位置\n",
      "aw.fly_to(current_pos)\n",
      "# 此代码功能为让无人机飞到当前位置上方 30 米，然后再回到当前位置，用于巡检垂直向上的第一个叶片\n",
      "\n"
     ]
    }
   ],
   "source": [
    "command = \"Next, inspect the first blade, which is pointing straight upward. Please fly 30 meters above your current position, then fly downward again. Note that when flying upward, the Z-axis value decreases.\"\n",
    "python_code = my_agent.process(command, True) #run the code\n",
    "print(\"python_code:\", python_code)"
   ]
  },
  {
   "cell_type": "code",
   "execution_count": 14,
   "id": "441e6c47a391bfe2",
   "metadata": {
    "ExecuteTime": {
     "end_time": "2025-03-15T09:40:00.932277Z",
     "start_time": "2025-03-15T09:39:41.481366Z"
    }
   },
   "outputs": [
    {
     "name": "stdout",
     "output_type": "stream",
     "text": [
      "python_code: import math\n",
      "\n",
      "# 获取无人机当前位置\n",
      "current_pos = aw.get_drone_position()\n",
      "\n",
      "# 计算偏移量\n",
      "distance = 30\n",
      "angle = math.radians(30)\n",
      "delta_y = distance * math.cos(angle)\n",
      "delta_z = distance * math.sin(angle)\n",
      "\n",
      "# 计算目标位置，右下方向 Y 轴增加，Z 轴增加\n",
      "target_y = current_pos[1] + delta_y\n",
      "target_z = current_pos[2] + delta_z\n",
      "target_x = current_pos[0]\n",
      "target_pos = [target_x, target_y, target_z]\n",
      "\n",
      "# 飞向目标位置\n",
      "aw.fly_to(target_pos)\n",
      "\n",
      "# 返回当前位置\n",
      "aw.fly_to(current_pos)\n",
      "# 此代码功能为让无人机以与水平轴 Y 成 30 度角的右下方向在 YZ 平面飞行 30 米，然后返回当前位置，用于检查第二个叶片\n",
      "\n"
     ]
    }
   ],
   "source": [
    "command = \"To inspect the second blade, I need you to fly in a direction that is 30 degrees below the horizontal Y-axis (toward the right and downward). You should fly a distance of 30 meters in the YZ plane, then return to your current position.\"\n",
    "python_code = my_agent.process(command, True) #run the code\n",
    "print(\"python_code:\", python_code)"
   ]
  },
  {
   "cell_type": "code",
   "execution_count": null,
   "id": "d44a79f2db614fa7",
   "metadata": {},
   "outputs": [],
   "source": []
  }
 ],
 "metadata": {
  "kernelspec": {
   "display_name": "Python 3 (ipykernel)",
   "language": "python",
   "name": "python3"
  },
  "language_info": {
   "codemirror_mode": {
    "name": "ipython",
    "version": 3
   },
   "file_extension": ".py",
   "mimetype": "text/x-python",
   "name": "python",
   "nbconvert_exporter": "python",
   "pygments_lexer": "ipython3",
   "version": "3.10.16"
  }
 },
 "nbformat": 4,
 "nbformat_minor": 5
}
