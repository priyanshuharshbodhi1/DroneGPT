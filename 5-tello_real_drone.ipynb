{
 "cells": [
  {
   "cell_type": "markdown",
   "id": "792809bf-540d-4f63-be15-5dc3a3d5d91f",
   "metadata": {},
   "source": [
    "# 5 Real Drone Flight with gpt-oss Reasoning"
   ]
  },
  {
   "cell_type": "markdown",
   "id": "4cda9573-ae4d-44e8-bab8-93dc16896f7c",
   "metadata": {},
   "source": [
    "## Sim-to-Real Transfer with gpt-oss\n",
    "\n",
    "In the previous projects, we tested drone control in AirSim simulation using **OpenAI's gpt-oss reasoning models**. Now we demonstrate the power of gpt-oss in real-world deployment with a physical Tello drone.\n",
    "\n",
    "**gpt-oss Advantage in Real Drones:**\n",
    "- **Safety-first reasoning** before executing any physical maneuver\n",
    "- **Environmental awareness** for indoor/outdoor flight conditions\n",
    "- **Real-time risk assessment** for hardware limitations and battery management\n",
    "- **Spatial reasoning** that translates perfectly from simulation to reality\n",
    "\n",
    "Migrating gpt-oss from virtual to real drones is seamless — the advanced reasoning capabilities remain identical while only the control interfaces change. The spatial understanding, safety analysis, and mission planning transfer directly.\n",
    "\n",
    "**Hardware:** The Tello EDU drone (80 grams, $99) provides an excellent platform for gpt-oss reasoning validation with Python-based control.\n",
    "\n",
    "<img src=\"img/tello_edu.png\" width='600px' />\n",
    "\n",
    "**Alternative Options:** Crazyflie ($50) and Minifly drones also support gpt-oss reasoning integration.\n",
    "\n",
    "<img src=\"img/mini_fly.png\" width='600px' />"
   ]
  },
  {
   "cell_type": "markdown",
   "id": "225bd5da-5d12-4d1b-90bf-d04a44a7e562",
   "metadata": {},
   "source": [
    "## gpt-oss Enhanced Tello Control\n",
    "\n",
    "We use **DJI Tello Py** SDK with gpt-oss reasoning overlay for intelligent real-world drone control. The system combines hardware commands with advanced spatial reasoning and safety analysis.\n",
    "\n",
    "**gpt-oss Enhanced Actions:**\n",
    "- Takeoff: `tello.takeoff()` ← *gpt-oss validates environment and battery*\n",
    "- Land: `tello.land()` ← *gpt-oss analyzes landing zone safety*\n",
    "- Move forward: `tello.move_forward(distance)` ← *gpt-oss calculates obstacle clearance*\n",
    "- Move backward: `tello.move_back(distance)` ← *gpt-oss spatial reasoning*\n",
    "- Rotate: `tello.rotate_counter_clockwise(degree)` ← *gpt-oss orientation planning*\n",
    "- Altitude: `tello.move_up/down(distance)` ← *gpt-oss safety margin calculation*\n",
    "\n",
    "**gpt-oss Enhanced Perception:**\n",
    "- Camera: `tello.get_frame_read()` ← *gpt-oss visual analysis*\n",
    "- Attitude: `tello.query_attitude()` ← *gpt-oss stability assessment*\n",
    "\n",
    "**Key Innovation:** gpt-oss reasoning analyzes each command before execution, providing safety validation and environmental awareness that traditional drone control lacks.\n",
    "\n",
    "The encapsulation in `tello_wrapper.py` maintains consistent function names while adding gpt-oss intelligence layers."
   ]
  },
  {
   "cell_type": "code",
   "execution_count": null,
   "id": "296d8b18",
   "metadata": {},
   "outputs": [],
   "source": [
    "import tello_wrapper\n",
    "import tello_agent\n",
    "\n",
    "# Initialize Tello wrapper for real drone control\n",
    "tello = tello_wrapper.TelloWrapper()\n",
    "print(\"✅ Tello real drone wrapper initialized\")\n",
    "print(\"🔧 Available functions:\")\n",
    "print(\"   tello.client.takeoff() - Hardware takeoff sequence\")\n",
    "print(\"   tello.client.land() - Hardware landing\")\n",
    "print(\"   tello.client.move_forward(cm) - Move forward\")\n",
    "print(\"   tello.client.move_back(cm) - Move backward\")\n",
    "print(\"   tello.client.move_left(cm) - Move left\")\n",
    "print(\"   tello.client.move_right(cm) - Move right\")\n",
    "print(\"   tello.client.move_up(cm) - Ascend\")\n",
    "print(\"   tello.client.move_down(cm) - Descend\")\n",
    "print(\"   tello.client.rotate_clockwise(degrees) - CW rotation\")\n",
    "print(\"   tello.client.rotate_counter_clockwise(degrees) - CCW rotation\")\n",
    "print(\"🧠 Ready for gpt-oss real drone operations!\")\n",
    "print(\"🛡️ Safety protocols: Battery check, environment analysis, emergency procedures\")\n"
   ]
  },
  {
   "cell_type": "code",
   "execution_count": null,
   "id": "5ec95cc9-8653-4449-a1ef-232fe3d0263a",
   "metadata": {},
   "outputs": [],
   "source": [
    "# Install Tello SDK for gpt-oss integration\n",
    "!pip install djitellopy"
   ]
  },
  {
   "cell_type": "code",
   "execution_count": null,
   "id": "7fb46cfa-3e64-4b05-810d-d330ba3e09d1",
   "metadata": {},
   "outputs": [],
   "source": [
    "# Enhanced gpt-oss knowledge base for real Tello drone operations\n",
    "kg_prompt_file = \"prompts/tello_gpt_oss_real.txt\"\n",
    "\n",
    "kg_prompt = \"\"\"\n",
    "You are an advanced real-world drone control system powered by OpenAI's gpt-oss reasoning models.\n",
    "\n",
    "MISSION: Physical Tello Drone Operations with Advanced Safety Reasoning\n",
    "\n",
    "GPT-OSS REAL-WORLD CAPABILITIES:\n",
    "- Physical environment risk assessment before any maneuver\n",
    "- Battery level awareness and flight time optimization\n",
    "- Indoor/outdoor safety protocol differentiation\n",
    "- Real-time obstacle detection and avoidance planning\n",
    "- Hardware limitation understanding (Tello constraints)\n",
    "\n",
    "ENHANCED PERCEPTION FUNCTIONS:\n",
    "- `get_image()`: Capture real camera feed with gpt-oss visual analysis\n",
    "- `detector_objects(img)`: Object detection with spatial reasoning\n",
    "  Returns: `obj_list` (detected objects), `obj_locs` (bounding boxes)\n",
    "\n",
    "REASONING-ENHANCED ACTIONS:\n",
    "- `forward()`: Move 0.1m forward with obstacle clearance validation\n",
    "- `turn_left()`: 90° rotation with spatial orientation tracking\n",
    "- `turn_right()`: 90° rotation with environment awareness\n",
    "\n",
    "REAL-WORLD REASONING PROTOCOL:\n",
    "1. **Environmental Analysis**: Assess indoor/outdoor conditions, lighting, obstacles\n",
    "2. **Safety Validation**: Check battery, GPS signal, emergency landing zones\n",
    "3. **Mission Planning**: Calculate optimal path considering real-world constraints\n",
    "4. **Risk Assessment**: Identify potential hazards and mitigation strategies\n",
    "5. **Execution Decision**: Proceed only if safety criteria are met\n",
    "\n",
    "RESPONSE FRAMEWORK:\n",
    "- **Question**: Ask for clarification when environmental conditions are unclear\n",
    "- **Reason**: Explain safety analysis and decision rationale\n",
    "- **Code**: Generate safe, validated commands for physical execution\n",
    "\n",
    "```python\n",
    "# gpt-oss real-world drone code with safety reasoning\n",
    "```\n",
    "\n",
    "SAFETY PRIORITY: Physical drone operations require maximum caution. Always validate environment and hardware status before execution.\n",
    "\n",
    "Ready for real-world gpt-oss drone operations!\n",
    "\"\"\"\n",
    "\n",
    "with open(kg_prompt_file, \"w\", encoding=\"utf-8\") as pt_file:\n",
    "    pt_file.write(kg_prompt)"
   ]
  },
  {
   "cell_type": "code",
   "execution_count": null,
   "id": "26f9baad-fa27-42b9-a3be-c0cc564550b3",
   "metadata": {},
   "outputs": [],
   "source": [
    "# Initialize gpt-oss real drone agent with enhanced safety protocols\n",
    "import tello_agent\n",
    "my_agent = tello_agent.TelloAgent(knowledge_prompt=\"prompts/tello_gpt_oss_real.txt\")\n",
    "print(\"✅ gpt-oss real drone agent initialized\")\n",
    "print(\"🛡️ Safety protocols: Environmental analysis, battery monitoring, obstacle detection\")\n",
    "print(\"🧠 Reasoning capabilities: Spatial awareness, risk assessment, mission optimization\")"
   ]
  },
  {
   "cell_type": "code",
   "execution_count": null,
   "id": "d915fc2a-3a0d-4da5-96ea-b6d68fc05b55",
   "metadata": {},
   "outputs": [],
   "source": [
    "# Real takeoff with gpt-oss comprehensive safety analysis\n",
    "command = \"take off\"\n",
    "python_code = my_agent.process(command, True)\n",
    "print(\"🧠 gpt-oss real-world takeoff reasoning:\")\n",
    "print(\"   - Environmental safety check\")\n",
    "print(\"   - Battery level validation\")\n",
    "print(\"   - Emergency landing zone identification\")\n",
    "print(\"python_code: \\n\", python_code)"
   ]
  },
  {
   "cell_type": "code",
   "execution_count": null,
   "id": "0c9ab019-505b-4ffd-8dc8-1f5238784193",
   "metadata": {},
   "outputs": [],
   "source": [
    "# Complex navigation with gpt-oss spatial reasoning\n",
    "command = \"Fly forward 3 meters, passing through a door frame with safety analysis\"\n",
    "result = my_agent.advanced_reasoning(command, reasoning_effort=\"high\")\n",
    "print(\"🧠 gpt-oss Advanced Real-World Navigation:\")\n",
    "print(result['reasoning'])\n",
    "print(\"\\n💻 Safe Navigation Code:\")\n",
    "print(result['code'])\n",
    "print(\"\\n✅ Safety considerations:\")\n",
    "print(\"   - Door frame clearance calculation\")\n",
    "print(\"   - Obstacle detection and avoidance\")\n",
    "print(\"   - Emergency stop protocols\")"
   ]
  },
  {
   "cell_type": "code",
   "execution_count": null,
   "id": "85757405-9170-4953-846f-8cfcfb06b899",
   "metadata": {},
   "outputs": [],
   "source": [
    "# Advanced 3D maneuver with gpt-oss geometric reasoning\n",
    "command = \"Fly forward and upward at a 60-degree angle for 3 meters using advanced spatial reasoning\"\n",
    "result = my_agent.advanced_reasoning(command, reasoning_effort=\"high\")\n",
    "print(\"🧠 gpt-oss 3D Geometric Reasoning:\")\n",
    "print(result['reasoning'])\n",
    "print(\"\\n💻 3D Maneuver Code:\")\n",
    "print(result['code'])\n",
    "print(\"\\n🎯 Demonstrates gpt-oss capabilities:\")\n",
    "print(\"   - 3D trajectory calculation\")\n",
    "print(\"   - Ceiling height awareness\")\n",
    "print(\"   - Angular movement decomposition\")\n",
    "print(\"   - Real-time safety monitoring\")"
   ]
  },
  {
   "cell_type": "code",
   "execution_count": null,
   "id": "visual-reasoning-demo",
   "metadata": {},
   "outputs": [],
   "source": [
    "# Visual reasoning demonstration with gpt-oss\n",
    "command = \"Use camera to analyze environment and plan safe landing zone\"\n",
    "result = my_agent.advanced_reasoning(command, reasoning_effort=\"medium\")\n",
    "print(\"🧠 gpt-oss Visual Analysis and Landing Planning:\")\n",
    "print(result['reasoning'])\n",
    "print(\"\\n💻 Visual Reasoning Code:\")\n",
    "print(result['code'])\n",
    "print(\"\\n📸 Visual reasoning features:\")\n",
    "print(\"   - Real-time image analysis\")\n",
    "print(\"   - Object detection and spatial mapping\")\n",
    "print(\"   - Safe landing zone identification\")\n",
    "print(\"   - Environmental hazard assessment\")"
   ]
  },
  {
   "cell_type": "code",
   "execution_count": null,
   "id": "mission-summary-real",
   "metadata": {},
   "outputs": [],
   "source": [
    "# Real drone mission summary\n",
    "print(\"🎯 Real Drone Flight Mission Summary:\")\n",
    "print(\"📋 gpt-oss Real-World Capabilities Demonstrated:\")\n",
    "print(\"   ✅ Physical environment safety analysis\")\n",
    "print(\"   ✅ Real-time obstacle detection and avoidance\")\n",
    "print(\"   ✅ Battery and hardware limitation awareness\")\n",
    "print(\"   ✅ 3D spatial reasoning in physical space\")\n",
    "print(\"   ✅ Visual analysis and environmental mapping\")\n",
    "print(\"   ✅ Emergency protocols and risk mitigation\")\n",
    "print(\"   ✅ Seamless sim-to-real reasoning transfer\")\n",
    "print(\"\\n🏆 Perfect demonstration of gpt-oss in real robotics applications!\")\n",
    "print(\"🚁 Showcases OpenAI's reasoning models in physical drone control\")"
   ]
  }
 ],
 "metadata": {
  "kernelspec": {
   "display_name": "Python 3 (ipykernel)",
   "language": "python",
   "name": "python3"
  },
  "language_info": {
   "codemirror_mode": {
    "name": "ipython",
    "version": 3
   },
   "file_extension": ".py",
   "mimetype": "text/x-python",
   "name": "python",
   "nbconvert_exporter": "python",
   "pygments_lexer": "ipython3",
   "version": "3.10.16"
  }
 },
 "nbformat": 4,
 "nbformat_minor": 5
}
