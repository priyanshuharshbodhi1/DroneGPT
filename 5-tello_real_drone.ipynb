{
 "cells": [
  {
   "cell_type": "markdown",
   "id": "792809bf-540d-4f63-be15-5dc3a3d5d91f",
   "metadata": {},
   "source": [
    "# 5 Real Drone fly"
   ]
  },
  {
   "cell_type": "markdown",
   "id": "4cda9573-ae4d-44e8-bab8-93dc16896f7c",
   "metadata": {},
   "source": [
    "In the previous three projects, we tested the flight control of drones in the AirSim simulation system using the IO Intelligence large model. In this project, we switch to a real Tello drone and re-test several typical examples from the earlier projects.\n",
    "\n",
    "Migrating the large drone model from the virtual simulation environment to a real drone is relatively straightforward — it mainly involves modifying the corresponding control and perception functions. The rest of the large model's perception and reasoning components remain unchanged.\n",
    "\n",
    "The Tello micro drone we used weighs only 80 grams and is very stable. Of course, it also supports Python-based programming control.\n",
    "\n",
    "The Tello EDU drone costs around $99 and can be purchased on eBay.\n",
    "\n",
    "<img src=\"img/tello_edu.png\" width='600px' />\n",
    "\n",
    "There are also more affordable open-source options such as the Crazyflie(https://www.bitcraze.io/products/crazyflie-2-1-plus/) or Minifly drones(https://www.minifly.com/), which can be bought new for about $50 and also support various types of code-based programming.\n",
    "\n",
    "<img src=\"img/mini_fly.png\" width='600px' />\n"
   ]
  },
  {
   "cell_type": "markdown",
   "id": "225bd5da-5d12-4d1b-90bf-d04a44a7e562",
   "metadata": {},
   "source": [
    "**Tello Drone Control and Perception SDK**\n",
    "\n",
    "We use **DJI Tello Py** (https://github.com/damiafuentes/DJITelloPy) as the control SDK for the Tello drone. Once that is set up, we can simply describe the required actions using prompts.\n",
    "\n",
    "For basic drone control commands, we only need the following common functions:\n",
    "\n",
    "**Actions:**\n",
    "\n",
    "- Takeoff: `tello.takeoff()`\n",
    "- Land: `tello.land()`\n",
    "- Move forward: `tello.move_forward(distance)`\n",
    "- Move backward: `tello.move_back(distance)`\n",
    "- Turn left (counter-clockwise): `tello.rotate_counter_clockwise(degree)`\n",
    "- Turn right (clockwise): `tello.rotate_clockwise(degree)`\n",
    "- Move up: `tello.move_up(distance)`\n",
    "- Move down: `tello.move_down(distance)`\n",
    "\n",
    "**Perception:**\n",
    "\n",
    "- Get camera data: `tello.get_frame_read()`\n",
    "- Get drone pose (attitude): `tello.query_attitude()`\n",
    "\n",
    "We encapsulate these action and perception functions in a unified way, keeping their function names consistent with those used in AirSim. This allows the large model to interact with the Tello drone without requiring any changes to its existing code structure.\n",
    "\n",
    "For details on the drone SDK encapsulation, please refer to `tello_wrapper_ob.py`."
   ]
  },
  {
   "cell_type": "code",
   "execution_count": null,
   "id": "5ec95cc9-8653-4449-a1ef-232fe3d0263a",
   "metadata": {},
   "outputs": [],
   "source": [
    "!pip install djitellopy"
   ]
  },
  {
   "cell_type": "code",
   "execution_count": null,
   "id": "7fb46cfa-3e64-4b05-810d-d330ba3e09d1",
   "metadata": {},
   "outputs": [],
   "source": [
    "# Construct a new prompt and write it into aisim_lesson25.txt\n",
    "\n",
    "kg_promot_file = \"prompts/tello_lession5.txt\"\n",
    "\n",
    "kg_prompt = \"\"\"\n",
    "\n",
    "Imagine you are assisting me in interacting with a Tello drone.  \n",
    "We are controlling a physical agent. At any given time, you have the following capabilities and may also provide code commands to achieve specific goals.\n",
    "\n",
    "**Question** – Ask me a clarification question when needed.  \n",
    "**Reason** – Explain why you're taking a certain action or asking the question.  \n",
    "**Code** – Output the code commands that will achieve the intended goal.\n",
    "\n",
    "The environment (scene) consists of multiple objects. You can use the following functions — please use only these unless otherwise specified:\n",
    "\n",
    "### **Perception Capabilities:**\n",
    "\n",
    "- `get_image()`: Captures an image from the agent's front-facing camera.  \n",
    "- `detector_objects(img)`: Runs an object detection model on the image `img` and returns two variables:\n",
    "  - `obj_list`: a list of detected object names in the scene.\n",
    "  - `obj_locs`: a list of bounding box coordinates for each detected object in the image.\n",
    "\n",
    "### **Action Capabilities:**\n",
    "\n",
    "- `forward()`: Moves the drone forward by 0.1 meters.  \n",
    "- `turn_left()`: Turns the drone left by 90 degrees.  \n",
    "- `turn_right()`: Turns the drone right by 90 degrees.  \n",
    "\n",
    "You **must not** use any other assumed functions. However, you may use standard Python libraries such as `math`, `numpy`, etc., if needed.\n",
    "\n",
    "Are you ready?\n",
    "\n",
    "\"\"\"\n",
    "\n",
    "pt_file = open(kg_promot_file, \"w\", encoding=\"utf-8\")\n",
    "pt_file.write(kg_prompt)\n",
    "pt_file.close()"
   ]
  },
  {
   "cell_type": "code",
   "execution_count": null,
   "id": "26f9baad-fa27-42b9-a3be-c0cc564550b3",
   "metadata": {},
   "outputs": [],
   "source": [
    "# ! you need make drone ready first\n",
    "import tello_agent\n",
    "my_agent = tello_agent.TelloAgent(knowledge_prompt=\"prompts/tello_lession5.txt\")"
   ]
  },
  {
   "cell_type": "code",
   "execution_count": null,
   "id": "d915fc2a-3a0d-4da5-96ea-b6d68fc05b55",
   "metadata": {},
   "outputs": [],
   "source": [
    "command = \"take off\"\n",
    "python_code = my_agent.process(command, True) #run the code\n",
    "print(\"python_code: \\n\", python_code)"
   ]
  },
  {
   "cell_type": "code",
   "execution_count": null,
   "id": "0c9ab019-505b-4ffd-8dc8-1f5238784193",
   "metadata": {},
   "outputs": [],
   "source": [
    "command = \"Fly forward 3 meters, passing through a door frame\"\n",
    "python_code = my_agent.process(command, True) #run the code\n",
    "print(\"python_code: \\n\", python_code)"
   ]
  },
  {
   "cell_type": "code",
   "execution_count": null,
   "id": "85757405-9170-4953-846f-8cfcfb06b899",
   "metadata": {},
   "outputs": [],
   "source": [
    "command = \"Fly forward and upward at a 60-degree angle for 3 meters\"\n",
    "python_code = my_agent.process(command, True) #run the code\n",
    "print(\"python_code: \\n\", python_code)"
   ]
  }
 ],
 "metadata": {
  "kernelspec": {
   "display_name": "Python 3 (ipykernel)",
   "language": "python",
   "name": "python3"
  },
  "language_info": {
   "codemirror_mode": {
    "name": "ipython",
    "version": 3
   },
   "file_extension": ".py",
   "mimetype": "text/x-python",
   "name": "python",
   "nbconvert_exporter": "python",
   "pygments_lexer": "ipython3",
   "version": "3.10.16"
  }
 },
 "nbformat": 4,
 "nbformat_minor": 5
}
