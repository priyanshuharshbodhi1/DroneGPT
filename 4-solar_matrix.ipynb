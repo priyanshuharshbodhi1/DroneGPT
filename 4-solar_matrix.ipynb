{
 "cells": [
  {
   "cell_type": "markdown",
   "id": "f6c99ba6-a047-4105-a22b-9e0885ad2b57",
   "metadata": {},
   "source": [
    "# 4 Full Mission - Inspecting the Solar Panel Array"
   ]
  },
  {
   "cell_type": "code",
   "execution_count": null,
   "id": "fbacd4fc-3a38-4f00-ad4c-3e2d21600888",
   "metadata": {},
   "outputs": [],
   "source": [
    "# Construct a new prompt and write it into aisim_lesson26.txt\n",
    "kg_promot_file = \"prompts/aisim_lession26.txt\"\n",
    "\n",
    "kg_prompt = \"\"\"\n",
    "\n",
    "Below are some functions you can use to command the drone:\n",
    "\n",
    "- `aw.takeoff()` - Takes off the drone.  \n",
    "- `aw.land()` - Lands the drone. \n",
    "- `aw.get_drone_position()` - Returns the current position of the drone as a list of three floating-point numbers corresponding to the X, Y, and Z coordinates.  \n",
    "- `aw.fly_to([x, y, z])` - Flies the drone to the specified position, given as a list of three parameters corresponding to the X, Y, and Z coordinates.  \n",
    "- `aw.get_position(object_name)` - Accepts a string input indicating the name of the object of interest, and returns a list of three floating-point numbers representing its X, Y, and Z coordinates.\n",
    "\n",
    "The following objects exist in the scene, and you should refer to them using **exactly** these names:\n",
    "\n",
    "**WindTurbine1, WindTurbine2, SolarPanels, Car, Crowd, Tower1, Tower2, Tower3**\n",
    "\n",
    "\n",
    "Regarding coordinate system conventions, we use the **NED (\"North-East-Down\")** coordinate system, where:\n",
    "- +X is North  \n",
    "- +Y is East  \n",
    "- +Z is Down  \n",
    "\n",
    "This means that higher Z values are more negative. If the origin is on the ground, then the Z value is zero at ground level, and flying upward results in a negative Z value (i.e., flying up reduces the Z coordinate).\n",
    "\n",
    "All objects other than the drone itself are stationary. Also, please remember that there are two turbines and three towers. When multiple objects of the same type exist, **you should always ask for clarification** if it’s not explicitly stated which one is being referred to. **Never make assumptions.**\n",
    "\n",
    "Please respond in the following format:  \n",
    "```python\n",
    "i=1  # Here, output the Python code\n",
    "```\n",
    "This code function is for assignment.\n",
    "\n",
    "You do not need to worry about importing `aw`, as it has already been declared in the environment.\n",
    "\"\"\"\n",
    "\n",
    "pt_file = open(kg_promot_file, \"w\", encoding=\"utf-8\")\n",
    "pt_file.write(kg_prompt)\n",
    "pt_file.close()"
   ]
  },
  {
   "cell_type": "code",
   "execution_count": null,
   "id": "22a939a866859225",
   "metadata": {},
   "outputs": [],
   "source": [
    "#！please run airsim first\n",
    "import airsim_agent\n",
    "my_agent = airsim_agent.AirSimAgent(knowledge_prompt=\"prompts/aisim_lession26.txt\")"
   ]
  },
  {
   "cell_type": "code",
   "execution_count": null,
   "id": "48e402e13101a9b5",
   "metadata": {},
   "outputs": [],
   "source": [
    "command = \"take off\"\n",
    "python_code = my_agent.process(command, True) #run code\n",
    "print(\"python_code: \\n\", python_code)"
   ]
  },
  {
   "cell_type": "code",
   "execution_count": null,
   "id": "36351d5a9631ea9e",
   "metadata": {},
   "outputs": [],
   "source": [
    "command = \"Fly toward the solar panels\"\n",
    "python_code = my_agent.process(command, True)  #run code\n",
    "print(\"python_code: \\n\", python_code)"
   ]
  },
  {
   "cell_type": "code",
   "execution_count": null,
   "id": "49587662f79e5027",
   "metadata": {},
   "outputs": [],
   "source": [
    "command = \"\"\"\n",
    "The drone is currently located at the left side of the first row of the solar panel array. First, obtain the drone's current position, and then begin the inspection.\n",
    "\n",
    "Based on the current orientation:\n",
    "- Flying to the right means subtracting a positive value from the current X coordinate.\n",
    "- Flying to the left means adding a positive value to the current X coordinate.\n",
    "- Flying backward means subtracting a positive value from the current Y coordinate.\n",
    "- Flying forward means adding a positive value to the current Y coordinate.\n",
    "\n",
    "The solar panel array is **30 meters wide (X direction)** and **50 meters long (Y direction)**.  \n",
    "I want you to use the **lawn mower pattern** to fly the drone over the entire array, inspecting it at a height of **exactly 5 meters**.\n",
    "\n",
    "### Steps to correctly execute the lawn mower pattern:\n",
    "\n",
    "1. Divide the panel array into **10 rows** along its length (Y direction).\n",
    "2. Fly to the far right end of the first row (along the width direction).\n",
    "3. Stay on the right side, but slightly move backward to reach the end of the next row.\n",
    "4. Fly to the far left end of the second row.\n",
    "5. Stay on the left side, but slightly move backward to reach the start of the next row.\n",
    "6. Repeat steps 2–5 to cover all remaining rows.\n",
    "\n",
    "Please maintain a consistent altitude of exactly **5 meters** during the flight.\n",
    "\"\"\"\n",
    "python_code = my_agent.process(command, True) #run code\n",
    "print(\"python_code: \\n\", python_code)"
   ]
  },
  {
   "cell_type": "code",
   "execution_count": null,
   "id": "d5f9d751e443fa56",
   "metadata": {},
   "outputs": [],
   "source": [
    "command = \"Fly toward the solar panels\"\n",
    "python_code = my_agent.process(command, True) #run code\n",
    "print(\"python_code: \\n\", python_code)"
   ]
  },
  {
   "cell_type": "code",
   "execution_count": null,
   "id": "e0c367724721528a",
   "metadata": {},
   "outputs": [],
   "source": [
    "command = \"\"\"\n",
    "Very good! However, please note that here you are required to \n",
    "**repeat steps 2 to 5 for the remaining rows** \n",
    "— inspecting each row alternately from **left to right, and then right to left**, just like a lawnmower pattern.\n",
    "\"\"\"\n",
    "python_code = my_agent.process(command, True) #run code\n",
    "print(\"python_code: \\n\", python_code)"
   ]
  },
  {
   "cell_type": "code",
   "execution_count": null,
   "id": "f34170050eb9e34e",
   "metadata": {},
   "outputs": [],
   "source": [
    "command = \"Fly toward the solar panels\"\n",
    "python_code = my_agent.process(command, True) #run code\n",
    "print(\"python_code: \\n\", python_code)"
   ]
  },
  {
   "cell_type": "code",
   "execution_count": null,
   "id": "c03db67d0b12c509",
   "metadata": {},
   "outputs": [],
   "source": [
    "command = \"\"\"\n",
    "The drone is currently located at the left side of the first row of the solar panel array. Please first obtain the drone's current position, and then begin the inspection.\n",
    "\n",
    "Based on the current orientation:\n",
    "- Flying to the right means subtracting a positive value from the current X coordinate.\n",
    "- Flying to the left means adding a positive value to the current X coordinate.\n",
    "- Flying backward means subtracting a positive value from the current Y coordinate.\n",
    "- Flying forward means adding a positive value to the current Y coordinate.\n",
    "\n",
    "The solar panel array is **30 meters wide (X direction)** and **50 meters long (Y direction)**.  \n",
    "I want you to use the **lawn mower pattern** to fly the drone over the entire array, inspecting it at a height of **exactly 5 meters**.\n",
    "\n",
    "### Steps to correctly execute the lawn mower pattern:\n",
    "\n",
    "1. Divide the panel array into **10 rows** along its length (Y direction).\n",
    "2. Fly to the far right end of the first row (along the width direction).\n",
    "3. Stay on the right side, but slightly move backward to reach the end of the next row.\n",
    "4. Inspect each row alternately from left to right, and then right to left.\n",
    "5. Stay on the left side, but slightly move backward to reach the start of the next row.\n",
    "6. Repeat steps 2 to 5 until all rows have been covered.\n",
    "\n",
    "Please maintain a consistent altitude of exactly **5 meters** during the flight.\n",
    "\"\"\"\n",
    "python_code = my_agent.process(command, True) #run code\n",
    "print(\"python_code: \\n\", python_code)"
   ]
  },
  {
   "cell_type": "code",
   "execution_count": null,
   "id": "a02668651853e46f",
   "metadata": {},
   "outputs": [],
   "source": []
  }
 ],
 "metadata": {
  "kernelspec": {
   "display_name": "Python 3 (ipykernel)",
   "language": "python",
   "name": "python3"
  },
  "language_info": {
   "codemirror_mode": {
    "name": "ipython",
    "version": 3
   },
   "file_extension": ".py",
   "mimetype": "text/x-python",
   "name": "python",
   "nbconvert_exporter": "python",
   "pygments_lexer": "ipython3",
   "version": "3.10.16"
  }
 },
 "nbformat": 4,
 "nbformat_minor": 5
}
