{
 "cells": [
  {
   "cell_type": "markdown",
   "id": "52a68514-d295-49e3-ab03-d01f357bf23b",
   "metadata": {},
   "source": [
    "# 2 Basic Flight Control - Flying to the Car"
   ]
  },
  {
   "cell_type": "markdown",
   "id": "babe5dcf-fbe8-4a97-9c61-59b0767516c1",
   "metadata": {},
   "source": [
    "## Large Model Function Encapsulation  \n",
    "We encapsulate the io.net LLM API into a function suitable for drone control, named `airsim_agent.py`.\n",
    "\n",
    "Only one main function is used:"
   ]
  },
  {
   "cell_type": "code",
   "execution_count": null,
   "id": "776b1d5b-7416-46c7-8462-388979e2f494",
   "metadata": {
    "jupyter": {
     "is_executing": true
    }
   },
   "outputs": [],
   "source": [
    "def process(self, command,run_python_code=True):\n",
    "    #step 1, ask llm\n",
    "    response = self.ask(command)\n",
    "\n",
    "    #step 2, extract Python code\n",
    "    python_code = self.extract_python_code(response)\n",
    "\n",
    "    #step 3, run Python code\n",
    "    if run_python_code and python_code:\n",
    "        exec(python_code)\n",
    "    return python_code"
   ]
  },
  {
   "cell_type": "markdown",
   "id": "4758d689-e194-4aa0-911a-7b7cd510a587",
   "metadata": {},
   "source": [
    "run method："
   ]
  },
  {
   "cell_type": "code",
   "execution_count": 2,
   "id": "d4c997f2-9146-4984-a9b5-c77b20ef9a62",
   "metadata": {
    "ExecuteTime": {
     "start_time": "2025-03-18T13:53:58.653814Z"
    },
    "jupyter": {
     "is_executing": true
    }
   },
   "outputs": [
    {
     "name": "stdout",
     "output_type": "stream",
     "text": [
      "python_code: aw.takeoff()\n",
      "\n"
     ]
    }
   ],
   "source": [
    "import airsim_agent\n",
    "my_agent = airsim_agent.AirSimAgent()\n",
    "command = \"take off\"\n",
    "python_code = my_agent.process(command) #not run code\n",
    "print(\"python_code:\", python_code)"
   ]
  },
  {
   "cell_type": "code",
   "execution_count": null,
   "id": "204a2105-4244-4e6d-bdda-1174dc58dd9a",
   "metadata": {},
   "outputs": [],
   "source": [
    "# agent ini funciton：\n",
    "# def __init__(self, system_prompts=\"system_prompts/airsim_basic_cn.txt\", knowledge_prompt=\"prompts/airsim_basic_cn.txt\", chat_history=[]):\n",
    "    "
   ]
  },
  {
   "cell_type": "code",
   "execution_count": 3,
   "id": "dcaa1c2d-c4d2-4051-8f74-3f562c28fafa",
   "metadata": {
    "ExecuteTime": {
     "end_time": "2025-03-15T08:40:36.690570Z",
     "start_time": "2025-03-15T08:40:36.669045Z"
    }
   },
   "outputs": [],
   "source": [
    "#write knowladge into aisim_lession23.txt\n",
    "kg_promot_file = \"prompts/aisim_lession23.txt\"\n",
    "\n",
    "kg_prompt = \"\"\"\n",
    "Below are some functions you can use to command the drone.\n",
    "\n",
    "`aw.takeoff()` - Takes off the drone.  \n",
    "`aw.land()` - Lands the drone.\n",
    "\n",
    "Please respond in the following format:  \n",
    "```python\n",
    "i=1  # Here, output the Python code\n",
    "```\n",
    "This code function is for assignment.\n",
    "\n",
    "You do not need to worry about importing `aw`, as it has already been declared in the environment.\n",
    "\"\"\"\n",
    "\n",
    "pt_file = open(kg_promot_file, \"w\", encoding=\"utf-8\")\n",
    "pt_file.write(kg_prompt)\n",
    "pt_file.close()"
   ]
  },
  {
   "cell_type": "code",
   "execution_count": 4,
   "id": "11c3b77c-6005-496e-8f2f-7c8725f73434",
   "metadata": {
    "ExecuteTime": {
     "end_time": "2025-03-15T08:40:53.570964Z",
     "start_time": "2025-03-15T08:40:47.199533Z"
    }
   },
   "outputs": [
    {
     "name": "stdout",
     "output_type": "stream",
     "text": [
      "python_code: aw.takeoff()#起飞无人机\n",
      "\n"
     ]
    }
   ],
   "source": [
    "#Attention，if you need run the drone code，you need open airsim first\n",
    "import airsim_agent\n",
    "my_agent = airsim_agent.AirSimAgent(knowledge_prompt=\"prompts/aisim_lession23.txt\")\n",
    "command = \"take off\"\n",
    "python_code = my_agent.process(command, True) #run the code\n",
    "print(\"python_code:\", python_code)"
   ]
  },
  {
   "cell_type": "markdown",
   "id": "75dc74d4-ff30-4fc3-a15b-b992d071f974",
   "metadata": {},
   "source": [
    "## Flying to the Car\n",
    "\n",
    "Since the drone currently lacks visual capabilities, we can directly specify the target position coordinates.\n",
    "\n",
    "You can obtain the object's pose using the following function:  \n",
    "`client.simGetObjectPose(object_name)`\n",
    "\n",
    "Because the object names used in the API may differ from their actual names in the Unreal Engine environment, we can use a dictionary to map them:\n",
    "\n",
    "```python\n",
    "objects_dict = {\n",
    "    \"turbine1\": \"BP_Wind_Turbines_C_1\",\n",
    "    \"turbine2\": \"StaticMeshActor_2\",\n",
    "    \"solarpanels\": \"StaticMeshActor_146\",\n",
    "    \"crowd\": \"StaticMeshActor_6\",\n",
    "    \"car\": \"StaticMeshActor_10\",\n",
    "    \"tower1\": \"SM_Electric_trellis_179\",\n",
    "    \"tower2\": \"SM_Electric_trellis_7\",\n",
    "    \"tower3\": \"SM_Electric_trellis_8\",\n",
    "}\n",
    "```\n",
    "\n",
    "Furthermore, if you are using a non-English language (e.g., Chinese), since variable names in code are typically not written in Chinese, you only need to provide the mapping between the Chinese object name and its corresponding English identifier within the prompt."
   ]
  },
  {
   "cell_type": "markdown",
   "id": "1df4a398-94b5-4e37-a799-a2a4d5d14632",
   "metadata": {
    "ExecuteTime": {
     "end_time": "2025-03-15T08:41:05.537131Z",
     "start_time": "2025-03-15T08:41:05.525028Z"
    }
   },
   "source": [
    "#build new promption，write into aisim_lession24.txt\n",
    "kg_promot_file = \"prompts/aisim_lession24.txt\"\n",
    "\n",
    "kg_prompt = \"\"\"\n",
    "Below are some functions you can use to command the drone:\n",
    "\n",
    "- `aw.takeoff()` - Takes off the drone.  \n",
    "- `aw.land()` - Lands the drone.  \n",
    "- `aw.get_drone_position()` - Returns the current position of the drone as a list of three floating-point numbers corresponding to the X, Y, and Z coordinates.  \n",
    "- `aw.fly_to([x, y, z])` - Flies the drone to the specified position, given as a list of three parameters corresponding to the X, Y, and Z coordinates.  \n",
    "- `aw.get_position(object_name)` - Accepts a string input indicating the name of the object of interest, and returns a list of three floating-point numbers representing its X, Y, and Z coordinates.\n",
    "\n",
    "The following objects exist in the scene, and you should refer to them using **exactly** these names:\n",
    "\n",
    "**WindTurbine1, WindTurbine2, SolarPanels, Car, Crowd, Tower1, Tower2, Tower3**\n",
    "\n",
    "Please note that when calling functions, if you're using a non-English language such as Chinese, you should still use the English identifiers listed below. The mapping is as follows:\n",
    "\n",
    "- `turbine1`: 风力发电机1  \n",
    "- `turbine2`: 风力发电机2  \n",
    "- `solarpanels`: 太阳能电池板  \n",
    "- `car`: 汽车  \n",
    "- `crowd`: 人群  \n",
    "- `tower1`: 塔1  \n",
    "- `tower2`: 塔2  \n",
    "- `tower3`: 塔3  \n",
    "\n",
    "For example, to get the position of WindTurbine1, you would write:  \n",
    "```python\n",
    "aw.get_position(\"turbine1\")\n",
    "```  \n",
    "instead of:  \n",
    "```python\n",
    "aw.get_position(\"风力发电机1\")\n",
    "```\n",
    "\n",
    "All objects other than the drone itself are stationary. Also, please remember that there are two turbines and three towers. When multiple objects of the same type exist, **you should always ask for clarification** if it’s not explicitly stated which one is being referred to. **Never make assumptions.**\n",
    "\n",
    "Please respond in the following format:  \n",
    "```python\n",
    "i=1  # Here, output the Python code\n",
    "```\n",
    "This code function is for assignment.\n",
    "\n",
    "You do not need to worry about importing `aw`, as it has already been declared in the environment.\n",
    "\n",
    "\"\"\"\n",
    "\n",
    "pt_file = open(kg_promot_file, \"w\", encoding=\"utf-8\")\n",
    "pt_file.write(kg_prompt)\n",
    "pt_file.close()"
   ]
  },
  {
   "cell_type": "code",
   "execution_count": 7,
   "id": "f48cbce7-53ad-4090-ab99-8a8abb86484b",
   "metadata": {
    "ExecuteTime": {
     "end_time": "2025-03-15T08:41:21.389132Z",
     "start_time": "2025-03-15T08:41:13.928073Z"
    }
   },
   "outputs": [
    {
     "name": "stdout",
     "output_type": "stream",
     "text": [
      "python_code: \n",
      " aw.takeoff()\n",
      "\n"
     ]
    }
   ],
   "source": [
    "import airsim_agent\n",
    "my_agent = airsim_agent.AirSimAgent(knowledge_prompt=\"prompts/aisim_lession24.txt\")\n",
    "command = \"take off\"\n",
    "python_code = my_agent.process(command, True) #run the code\n",
    "print(\"python_code: \\n\", python_code)"
   ]
  },
  {
   "cell_type": "code",
   "execution_count": 8,
   "id": "1bef9619-41ff-45f1-976d-82cdc7ba7996",
   "metadata": {
    "ExecuteTime": {
     "end_time": "2025-03-15T08:41:25.876547Z",
     "start_time": "2025-03-15T08:41:23.178888Z"
    }
   },
   "outputs": [
    {
     "name": "stdout",
     "output_type": "stream",
     "text": [
      "python_code: \n",
      " car_position = aw.get_position(\"car\")\n",
      "# 假设飞到汽车上方 5 米处，根据 NED 坐标系，向上飞 z 轴减去一个值\n",
      "target_position = [car_position[0], car_position[1], car_position[2] - 5]\n",
      "aw.fly_to(target_position)\n",
      "\n"
     ]
    }
   ],
   "source": [
    "command = \"Fly to above the car\"\n",
    "python_code = my_agent.process(command, False) #not run\n",
    "print(\"python_code: \\n\", python_code)"
   ]
  },
  {
   "cell_type": "code",
   "execution_count": 9,
   "id": "9939abca-e9c7-4b2a-b4fd-6b44f826680e",
   "metadata": {
    "ExecuteTime": {
     "end_time": "2025-03-15T08:41:53.890352Z",
     "start_time": "2025-03-15T08:41:37.102230Z"
    }
   },
   "outputs": [
    {
     "name": "stdout",
     "output_type": "stream",
     "text": [
      "python_code: \n",
      " # 获取汽车的位置\n",
      "car_pos = aw.get_position(\"car\")\n",
      "# 假设飞到汽车上方 3 米处，由于是 NED 坐标系，向上飞 z 轴值减小\n",
      "target = [car_pos[0], car_pos[1], car_pos[2] - 3]\n",
      "# 让无人机飞到目标位置\n",
      "aw.fly_to(target)\n",
      "\n"
     ]
    }
   ],
   "source": [
    "command = \"Fly to above the car\"\n",
    "python_code = my_agent.process(command, True) #run the code\n",
    "print(\"python_code: \\n\", python_code)"
   ]
  }
 ],
 "metadata": {
  "kernelspec": {
   "display_name": "Python 3 (ipykernel)",
   "language": "python",
   "name": "python3"
  },
  "language_info": {
   "codemirror_mode": {
    "name": "ipython",
    "version": 3
   },
   "file_extension": ".py",
   "mimetype": "text/x-python",
   "name": "python",
   "nbconvert_exporter": "python",
   "pygments_lexer": "ipython3",
   "version": "3.10.16"
  }
 },
 "nbformat": 4,
 "nbformat_minor": 5
}
