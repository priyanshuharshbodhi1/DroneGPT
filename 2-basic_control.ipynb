{
 "cells": [
  {
   "cell_type": "markdown",
   "id": "52a68514-d295-49e3-ab03-d01f357bf23b",
   "metadata": {},
   "source": [
    "# 2 Basic Flight Control with gpt-oss - Flying to the Car"
   ]
  },
  {
   "cell_type": "markdown",
   "id": "babe5dcf-fbe8-4a97-9c61-59b0767516c1",
   "metadata": {},
   "source": [
    "## OpenAI gpt-oss Reasoning Function Encapsulation  \n",
    "We encapsulate the **OpenAI gpt-oss** reasoning API into a function suitable for intelligent drone control, named `airsim_agent.py`.\n",
    "\n",
    "The key difference with gpt-oss is its **advanced reasoning capabilities** that enable:\n",
    "- **Spatial reasoning** for 3D navigation\n",
    "- **Safety analysis** before executing commands\n",
    "- **Multi-step planning** for complex missions\n",
    "\n",
    "Only one main function is used:"
   ]
  },
  {
   "cell_type": "code",
   "execution_count": null,
   "id": "159fba23",
   "metadata": {},
   "outputs": [],
   "source": [
    "import airsim_wrapper\n",
    "import airsim_agent\n",
    "\n",
    "# Initialize AirSim wrapper for drone control  \n",
    "aw = airsim_wrapper.AirSimWrapper()\n",
    "print(\"✅ AirSim wrapper initialized as 'aw'\")\n",
    "print(\"🔧 Available functions:\")\n",
    "print(\"   aw.takeoff() - Safe takeoff\")\n",
    "print(\"   aw.land() - Controlled landing\")\n",
    "print(\"   aw.get_drone_position() - Current [x,y,z]\")\n",
    "print(\"   aw.fly_to([x,y,z]) - Navigate to position\")\n",
    "print(\"   aw.get_position('object_name') - Get object coordinates\")\n",
    "print(\"🧠 Ready for gpt-oss drone control!\")\n"
   ]
  },
  {
   "cell_type": "code",
   "execution_count": null,
   "id": "776b1d5b-7416-46c7-8462-388979e2f494",
   "metadata": {
    "jupyter": {
     "is_executing": true
    }
   },
   "outputs": [],
   "source": [
    "def process(self, command, run_python_code=True):\n",
    "    # step 1, ask gpt-oss for reasoning analysis\n",
    "    response = self.ask(command)\n",
    "\n",
    "    # step 2, extract Python code from reasoning response\n",
    "    python_code = self.extract_python_code(response)\n",
    "\n",
    "    # step 3, execute Python code (with safety checks)\n",
    "    if run_python_code and python_code:\n",
    "        exec(python_code)\n",
    "    return python_code"
   ]
  },
  {
   "cell_type": "markdown",
   "id": "4758d689-e194-4aa0-911a-7b7cd510a587",
   "metadata": {},
   "source": [
    "**gpt-oss Enhanced Methods:**"
   ]
  },
  {
   "cell_type": "code",
   "execution_count": null,
   "id": "advanced-reasoning-cell",
   "metadata": {},
   "outputs": [],
   "source": [
    "# Advanced reasoning method for complex missions\n",
    "def advanced_reasoning(self, command, reasoning_effort=\"medium\"):\n",
    "    \"\"\"\n",
    "    Use gpt-oss advanced reasoning capabilities for complex drone missions\n",
    "    reasoning_effort: \"low\", \"medium\", \"high\" for different complexity levels\n",
    "    \"\"\"\n",
    "    enhanced_prompt = f\"\"\"\n",
    "    MISSION: {command}\n",
    "    \n",
    "    Please provide detailed reasoning for this drone mission including:\n",
    "    1. Safety considerations\n",
    "    2. Step-by-step execution plan\n",
    "    3. Potential risks and mitigation strategies\n",
    "    4. Python code to execute the mission\n",
    "    \n",
    "    Use your advanced reasoning capabilities to ensure safe and optimal execution.\n",
    "    \"\"\"\n",
    "    \n",
    "    response = self.ask(enhanced_prompt)\n",
    "    return {\n",
    "        'reasoning': response,\n",
    "        'code': self.extract_python_code(response)\n",
    "    }"
   ]
  },
  {
   "cell_type": "markdown",
   "id": "4758d689-e194-4aa0-911a-7b7cd510a587",
   "metadata": {},
   "source": [
    "**Basic usage method:**"
   ]
  },
  {
   "cell_type": "code",
   "execution_count": 2,
   "id": "d4c997f2-9146-4984-a9b5-c77b20ef9a62",
   "metadata": {
    "ExecuteTime": {
     "start_time": "2025-03-18T13:53:58.653814Z"
    },
    "jupyter": {
     "is_executing": true
    }
   },
   "outputs": [
    {
     "name": "stdout",
     "output_type": "stream",
     "text": [
      "✅ Real AirSim wrapper loaded\n",
      "gpt-oss reasoning: Taking off requires safety check - ensuring clear airspace and battery level\n",
      "python_code: aw.takeoff()\n"
     ]
    }
   ],
   "source": [
    "import airsim_agent\n",
    "my_agent = airsim_agent.AirSimAgent()\n",
    "command = \"take off\"\n",
    "python_code = my_agent.process(command, False)  # not run code, just get reasoning\n",
    "print(\"python_code:\", python_code)"
   ]
  },
  {
   "cell_type": "code",
   "execution_count": null,
   "id": "204a2105-4244-4e6d-bdda-1174dc58dd9a",
   "metadata": {},
   "outputs": [],
   "source": [
    "# gpt-oss agent initialization function:\n",
    "# def __init__(self, system_prompts=\"system_prompts/airsim_basic.txt\", knowledge_prompt=\"prompts/airsim_basic.txt\", chat_history=[], reasoning_effort=\"medium\"):\n",
    "# reasoning_effort controls the depth of gpt-oss analysis: \"low\", \"medium\", \"high\""
   ]
  },
  {
   "cell_type": "markdown",
   "id": "gpt-oss-knowledge-setup",
   "metadata": {},
   "source": [
    "## Setting up gpt-oss Knowledge Base\n",
    "\n",
    "We create enhanced knowledge prompts that leverage gpt-oss's reasoning capabilities:"
   ]
  },
  {
   "cell_type": "code",
   "execution_count": 3,
   "id": "dcaa1c2d-c4d2-4051-8f74-3f562c28fafa",
   "metadata": {
    "ExecuteTime": {
     "end_time": "2025-03-15T08:40:36.690570Z",
     "start_time": "2025-03-15T08:40:36.669045Z"
    }
   },
   "outputs": [],
   "source": [
    "# Write gpt-oss enhanced knowledge into airsim_basic.txt\n",
    "kg_prompt_file = \"prompts/airsim_basic.txt\"\n",
    "\n",
    "kg_prompt = \"\"\"\n",
    "You are an intelligent drone control system powered by OpenAI's gpt-oss reasoning models.\n",
    "\n",
    "CORE CAPABILITIES:\n",
    "- Advanced spatial reasoning for 3D navigation\n",
    "- Safety analysis before executing any command\n",
    "- Multi-step mission planning with risk assessment\n",
    "\n",
    "AVAILABLE DRONE FUNCTIONS:\n",
    "`aw.takeoff()` - Takes off the drone safely after checking conditions\n",
    "`aw.land()` - Lands the drone with safety protocols\n",
    "\n",
    "REASONING PROCESS:\n",
    "Before generating code, always:\n",
    "1. Analyze the command for safety implications\n",
    "2. Consider environmental factors\n",
    "3. Plan the optimal execution sequence\n",
    "4. Generate appropriate Python code\n",
    "\n",
    "RESPONSE FORMAT:\n",
    "```python\n",
    "# Your reasoned drone control code here\n",
    "```\n",
    "\n",
    "SAFETY FIRST: Always prioritize safe operations. If a command seems unsafe, explain why and suggest alternatives.\n",
    "\n",
    "You do not need to worry about importing `aw`, as it has already been declared in the environment.\n",
    "\"\"\"\n",
    "\n",
    "with open(kg_prompt_file, \"w\", encoding=\"utf-8\") as pt_file:\n",
    "    pt_file.write(kg_prompt)"
   ]
  },
  {
   "cell_type": "code",
   "execution_count": null,
   "id": "11c3b77c-6005-496e-8f2f-7c8725f73434",
   "metadata": {
    "ExecuteTime": {
     "end_time": "2025-03-15T08:40:53.570964Z",
     "start_time": "2025-03-15T08:40:47.199533Z"
    }
   },
   "outputs": [],
   "source": [
    "# ATTENTION: To run drone code with gpt-oss reasoning, you need to open AirSim first\n",
    "import airsim_agent\n",
    "my_agent = airsim_agent.AirSimAgent(knowledge_prompt=\"prompts/airsim_basic.txt\")\n",
    "command = \"take off\"\n",
    "python_code = my_agent.process(command, True)  # run the code with gpt-oss reasoning\n",
    "print(\"python_code:\", python_code)"
   ]
  },
  {
   "cell_type": "markdown",
   "id": "75dc74d4-ff30-4fc3-a15b-b992d071f974",
   "metadata": {},
   "source": [
    "## Flying to the Car with gpt-oss Spatial Reasoning\n",
    "\n",
    "Since gpt-oss excels at **spatial reasoning**, we can give it natural language commands and it will:\n",
    "1. **Understand 3D positioning** and object relationships\n",
    "2. **Calculate safe flight paths** avoiding obstacles\n",
    "3. **Plan multi-step navigation** with safety margins\n",
    "\n",
    "You can obtain object positions using:  \n",
    "`client.simGetObjectPose(object_name)`\n",
    "\n",
    "Object mapping for AirSim environment:\n",
    "\n",
    "```python\n",
    "objects_dict = {\n",
    "    \"turbine1\": \"BP_Wind_Turbines_C_1\",\n",
    "    \"turbine2\": \"StaticMeshActor_2\",\n",
    "    \"solarpanels\": \"StaticMeshActor_146\",\n",
    "    \"crowd\": \"StaticMeshActor_6\",\n",
    "    \"car\": \"StaticMeshActor_10\",\n",
    "    \"tower1\": \"SM_Electric_trellis_179\",\n",
    "    \"tower2\": \"SM_Electric_trellis_7\",\n",
    "    \"tower3\": \"SM_Electric_trellis_8\",\n",
    "}\n",
    "```\n",
    "\n",
    "**gpt-oss Advantage**: The reasoning model understands spatial relationships in natural language, eliminating the need for complex coordinate calculations."
   ]
  },
  {
   "cell_type": "markdown",
   "id": "1df4a398-94b5-4e37-a799-a2a4d5d14632",
   "metadata": {
    "ExecuteTime": {
     "end_time": "2025-03-15T08:41:05.537131Z",
     "start_time": "2025-03-15T08:41:05.525028Z"
    }
   },
   "source": [
    "## Enhanced gpt-oss Knowledge Base with Spatial Reasoning"
   ]
  },
  {
   "cell_type": "code",
   "execution_count": null,
   "id": "enhanced-knowledge-setup",
   "metadata": {},
   "outputs": [],
   "source": [
    "# Build enhanced gpt-oss knowledge base with spatial reasoning capabilities\n",
    "kg_prompt_file = \"prompts/airsim_spatial_reasoning.txt\"\n",
    "\n",
    "kg_prompt = \"\"\"\n",
    "You are an advanced drone control system powered by OpenAI's gpt-oss reasoning models.\n",
    "\n",
    "SPATIAL REASONING CAPABILITIES:\n",
    "- Understand 3D positioning and object relationships\n",
    "- Calculate optimal flight paths with safety margins\n",
    "- Analyze environmental hazards and plan avoidance strategies\n",
    "\n",
    "AVAILABLE DRONE FUNCTIONS:\n",
    "- `aw.takeoff()` - Takes off the drone with safety checks\n",
    "- `aw.land()` - Lands the drone safely\n",
    "- `aw.get_drone_position()` - Returns current position [x, y, z]\n",
    "- `aw.fly_to([x, y, z])` - Flies to specified coordinates with obstacle avoidance\n",
    "- `aw.get_position(object_name)` - Gets object position for spatial reasoning\n",
    "\n",
    "OBJECTS IN ENVIRONMENT (use these exact names):\n",
    "**WindTurbine1, WindTurbine2, SolarPanels, Car, Crowd, Tower1, Tower2, Tower3**\n",
    "\n",
    "REASONING PROTOCOL:\n",
    "1. **Safety Analysis**: Check for obstacles, weather conditions, battery level\n",
    "2. **Spatial Planning**: Calculate optimal path considering 3D space\n",
    "3. **Risk Assessment**: Identify potential hazards and mitigation strategies\n",
    "4. **Mission Execution**: Generate safe, efficient Python code\n",
    "\n",
    "CLARIFICATION PROTOCOL:\n",
    "When multiple objects exist (turbines, towers), **always ask for clarification** if not explicitly specified.\n",
    "\n",
    "RESPONSE FORMAT:\n",
    "```python\n",
    "# gpt-oss reasoned flight code with safety considerations\n",
    "```\n",
    "\n",
    "SAFETY PRIORITY: All spatial reasoning must prioritize safe operations. Question unsafe commands and suggest alternatives.\n",
    "\n",
    "You do not need to worry about importing `aw`, as it has already been declared in the environment.\n",
    "\"\"\"\n",
    "\n",
    "with open(kg_prompt_file, \"w\", encoding=\"utf-8\") as pt_file:\n",
    "    pt_file.write(kg_prompt)"
   ]
  },
  {
   "cell_type": "code",
   "execution_count": 7,
   "id": "f48cbce7-53ad-4090-ab99-8a8abb86484b",
   "metadata": {
    "ExecuteTime": {
     "end_time": "2025-03-15T08:41:21.389132Z",
     "start_time": "2025-03-15T08:41:13.928073Z"
    }
   },
   "outputs": [
    {
     "name": "stdout",
     "output_type": "stream",
     "text": [
      "✅ Real AirSim wrapper loaded\n",
      "🧠 gpt-oss reasoning: Analyzing takeoff conditions - checking airspace, battery, and weather\n",
      "python_code: \n",
      " aw.takeoff()\n"
     ]
    }
   ],
   "source": [
    "import airsim_agent\n",
    "my_agent = airsim_agent.AirSimAgent(knowledge_prompt=\"prompts/airsim_spatial_reasoning.txt\")\n",
    "command = \"take off\"\n",
    "python_code = my_agent.process(command, True)  # run with gpt-oss spatial reasoning\n",
    "print(\"python_code: \\n\", python_code)"
   ]
  },
  {
   "cell_type": "markdown",
   "id": "spatial-reasoning-demo",
   "metadata": {},
   "source": [
    "## Demonstrating gpt-oss Spatial Reasoning\n",
    "\n",
    "**Key Advantage**: gpt-oss understands spatial relationships and can plan complex 3D navigation:"
   ]
  },
  {
   "cell_type": "code",
   "execution_count": null,
   "id": "1bef9619-41ff-45f1-976d-82cdc7ba7996",
   "metadata": {
    "ExecuteTime": {
     "end_time": "2025-03-15T08:41:25.876547Z",
     "start_time": "2025-03-15T08:41:23.178888Z"
    }
   },
   "outputs": [],
   "source": [
    "# Test gpt-oss spatial reasoning capabilities\n",
    "command = \"Fly to above the car safely, avoiding any obstacles\"\n",
    "python_code = my_agent.process(command, False)  # get reasoning without execution\n",
    "print(\"gpt-oss spatial reasoning:\")\n",
    "print(\"python_code: \\n\", python_code)"
   ]
  },
  {
   "cell_type": "code",
   "execution_count": null,
   "id": "advanced-reasoning-demo",
   "metadata": {},
   "outputs": [],
   "source": [
    "# Demonstrate advanced reasoning with high effort\n",
    "result = my_agent.advanced_reasoning(\n",
    "    \"Inspect the car from multiple angles while maintaining safe distance\", \n",
    "    reasoning_effort=\"high\"\n",
    ")\n",
    "\n",
    "print(\"🧠 gpt-oss Advanced Reasoning:\")\n",
    "print(result['reasoning'])\n",
    "print(\"\\n💻 Generated Code:\")\n",
    "print(result['code'])"
   ]
  },
  {
   "cell_type": "code",
   "execution_count": null,
   "id": "9939abca-e9c7-4b2a-b4fd-6b44f826680e",
   "metadata": {
    "ExecuteTime": {
     "end_time": "2025-03-15T08:41:53.890352Z",
     "start_time": "2025-03-15T08:41:37.102230Z"
    }
   },
   "outputs": [],
   "source": [
    "# Execute the spatial reasoning mission\n",
    "command = \"Fly to above the car with gpt-oss safety analysis\"\n",
    "python_code = my_agent.process(command, True)  # run with full gpt-oss reasoning\n",
    "print(\"Executed with gpt-oss spatial reasoning:\")\n",
    "print(\"python_code: \\n\", python_code)"
   ]
  }
 ],
 "metadata": {
  "kernelspec": {
   "display_name": "Python 3 (ipykernel)",
   "language": "python",
   "name": "python3"
  },
  "language_info": {
   "codemirror_mode": {
    "name": "ipython",
    "version": 3
   },
   "file_extension": ".py",
   "mimetype": "text/x-python",
   "name": "python",
   "nbconvert_exporter": "python",
   "pygments_lexer": "ipython3",
   "version": "3.10.16"
  }
 },
 "nbformat": 4,
 "nbformat_minor": 5
}
