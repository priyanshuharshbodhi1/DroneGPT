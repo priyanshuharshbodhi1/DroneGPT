{
 "cells": [
  {
   "cell_type": "markdown",
   "id": "31cb4159-6e95-4d7d-9a94-bfb0ca81f9d6",
   "metadata": {},
   "source": [
    "# 1 AirSim Simulation and ionet Development Setup"
   ]
  },
  {
   "cell_type": "markdown",
   "id": "7a71a127-b1ef-4fcb-a2cc-bc3217a3cd75",
   "metadata": {},
   "source": [
    "## Introduction to AirSim\n",
    "\n",
    "AirSim (Aerial Informatics and Robotics Simulation) is an open-source robotics simulation platform developed by Microsoft Research, primarily used for algorithm development and testing of autonomous systems such as drones and self-driving cars. The following introduces AirSim from three aspects: core functionalities, technical features, and application scenarios.\n",
    "\n",
    "---\n",
    "\n",
    "### I. Core Functionalities\n",
    "\n",
    "1. **Multi-modal Simulation Support**  \n",
    "   AirSim supports the simulation of various types of vehicles, including drones, ground vehicles, and static IoT devices, providing a high-fidelity physical and visual simulation environment. Its built-in sensor models (e.g., IMU, GPS, cameras, LiDAR) can generate data that closely resembles real-world conditions, suitable for training and validating AI models.\n",
    "\n",
    "2. **Hardware-in-the-Loop and Software-in-the-Loop Simulation**  \n",
    "   The platform supports integration with flight controllers such as PX4 and ArduPilot, enabling Hardware-in-the-Loop (HIL) and Software-in-the-Loop (SIL) simulations. This allows developers to combine real hardware with virtual environments for testing.\n",
    "\n",
    "3. **Data Generation and Debugging Tools**  \n",
    "   AirSim can efficiently generate large-scale training data and simulate high-risk scenarios such as collisions and complex weather conditions to reduce the cost of real-world testing. For example, simulating drone crashes incurs almost no cost but provides valuable information for improving designs.\n",
    "\n",
    "---\n",
    "\n",
    "### II. Technical Features\n",
    "\n",
    "1. **Realistic Rendering Based on Unreal Engine**  \n",
    "   As a plugin for Unreal Engine, AirSim leverages the engine’s physics computation and graphics rendering capabilities to create highly realistic 3D scenes (e.g., cities, mountains, indoor environments), making it ideal for developing vision-dependent navigation algorithms.\n",
    "\n",
    "2. **Modular Design and Cross-platform Compatibility**  \n",
    "   With a modular architecture, AirSim supports the extension of hardware and algorithm interfaces, and is compatible with both Windows and Linux systems. It enables flexible control through Python and C++ APIs, as well as ROS/ROS2 interfaces.\n",
    "\n",
    "3. **Multi-drone Cooperative Simulation**  \n",
    "   By configuring files, multiple drones can be simulated simultaneously, supporting distributed control and verification of complex tasks (e.g., formation flying), meeting the needs of research and education.\n",
    "\n",
    "---\n",
    "\n",
    "### III. Application Scenarios\n",
    "\n",
    "- **Autonomous Driving Algorithm Development**: Simulate vehicle perception and decision-making in complex traffic conditions to accelerate deep learning model training.\n",
    "- **Drone Obstacle Avoidance and Path Planning**: Test SLAM and autonomous navigation algorithms in GPS-denied environments (e.g., inside buildings).\n",
    "- **Education and Research**: Provide a low-cost experimental platform for robotics education and reinforcement learning research.\n",
    "\n",
    "---\n",
    "\n",
    "### Current Status and Development\n",
    "\n",
    "As of 2025, the official open-source version of AirSim has ceased updates and has been archived, although users can still access the historical codebase.\n",
    "\n",
    "However, several teams continue to develop and improve upon AirSim, such as:\n",
    "- [Cosys-AirSim](https://github.com/Cosys-Lab/Cosys-AirSim): Adds more sensors and upgrades to Unreal Engine 5.\n",
    "- [Colosseum](https://github.com/CodexLabsLLC/Colosseum): Optimizes deployment workflows by adapting to Windows systems and Unreal Engine 5."
   ]
  },
  {
   "cell_type": "markdown",
   "id": "004e9115-b575-4204-bdaf-a0ec4a04cb18",
   "metadata": {},
   "source": [
    "### AirSim Simulation\n",
    "\n",
    "The simulation environment used in the paper *\"ChatGPT for Robotics: Design Principles and Model Abilities\"*\n",
    "\n",
    "You can download it directly from its GitHub page:  \n",
    "https://github.com/microsoft/PromptCraft-Robotics/releases/tag/1.0.0\n",
    "\n",
    "After downloading and extracting the files, you can run the simulation directly:\n",
    "\n",
    "<img src=\"img/airsim1-1.jpg\" width='600px' />"
   ]
  },
  {
   "cell_type": "markdown",
   "id": "e9098acf-c4c0-425f-b1f7-86c24b76bb70",
   "metadata": {},
   "source": [
    "## AirSim Related Documentation\n",
    "\n",
    "AirSim [GitHub](https://github.com/microsoft/airsim/releases)\n",
    "\n",
    "AirSim [Documentation](https://microsoft.github.io/AirSim/)"
   ]
  },
  {
   "cell_type": "markdown",
   "id": "4863b148-4bc9-457b-afcb-2eec0c8119f5",
   "metadata": {},
   "source": [
    "## Introduction to io.net\n",
    "\n",
    "- io.net is a decentralized GPU cloud platform built on the Solana blockchain, providing global GPU resources for AI and ML applications.\n",
    "- It enables fast deployment of large-scale, scalable GPU clusters at competitive prices, especially suitable for startups and developers.\n",
    "- The platform uses the $IO token for transactions and rewards, supported by the IOG Foundation, including a $20M $IO grant program.\n",
    "\n",
    "### Platform Overview  \n",
    "io.net is an innovative decentralized GPU cloud platform designed to provide global, on-demand GPU resources for artificial intelligence (AI) and machine learning (ML) applications through the Solana blockchain. Its core objective is to lower the barrier to high-performance computing, particularly offering cost-effective solutions for startups and developers.\n",
    "\n",
    "### Key Features  \n",
    "- **Fast Deployment**: Users can quickly deploy large-scale GPU clusters ideal for AI projects requiring high computational power.  \n",
    "- **Cost Efficiency**: Compared to traditional cloud services, io.net offers more competitive pricing.  \n",
    "- **Decentralized Network**: As a Decentralized Physical Infrastructure Network (DePIN), it directly connects GPU providers and users, eliminating intermediaries.  \n",
    "- **Token Economy**: Utilizes $IO as its native utility token for transactions, incentives, and network security.  \n",
    "- **Support and Innovation**: Backed by the IOG Foundation with a $20M $IO grant program to accelerate compute-intensive AI innovation.\n",
    "\n",
    "### Applicable Use Cases  \n",
    "io.net is particularly well-suited for AI startups and developers requiring large-scale computing resources. It supports various GPU models (e.g., azureT40, rtx3090, RTX 4090), covering over 138 countries, and provides flexible, scalable clusters while emphasizing sustainability and security (including SOC2 compliance and end-to-end encryption).\n",
    "\n",
    "\n",
    "### Summary  \n",
    "As a decentralized GPU cloud platform, io.net provides cost-effective and efficient computing resources for AI and ML developers using the Solana blockchain and DePIN model. Its rapid deployment capabilities, broad GPU support, and sustainability initiatives distinguish it in the competitive cloud services market. Combined with recent advancements and community support, io.net appears poised to become a critical infrastructure for compute-intensive AI innovation.\n",
    "\n",
    "**References:**  \n",
    "- [io.net Official Website](https://io.net/)"
   ]
  },
  {
   "cell_type": "markdown",
   "id": "74493ee2-efbb-48a8-997e-058d5ad7c600",
   "metadata": {},
   "source": [
    "## io Intelligence\n",
    "\n",
    "The large language model service used in this project is **io Intelligence**.\n",
    "\n",
    "First, you need to apply for an API token:\n",
    "\n",
    "<img src=\"img/io_int.png\" width='600px' />\n",
    "\n",
    "\n",
    "link: https://io.net/intelligence\n",
    "\n",
    "\n",
    "then you need revsise the ARK_API_KEY in airsim_agent.py\n"
   ]
  },
  {
   "cell_type": "markdown",
   "id": "8e2a4a71-e5e1-42b7-b509-b1d259550d61",
   "metadata": {},
   "source": [
    "### python env\n",
    "python==3.10\n",
    "\n",
    "recommend conda+jupyter lab"
   ]
  },
  {
   "cell_type": "code",
   "execution_count": null,
   "id": "6d3cdea1-3102-428d-a99d-ffa39e67d2e2",
   "metadata": {},
   "outputs": [],
   "source": []
  }
 ],
 "metadata": {
  "kernelspec": {
   "display_name": "Python 3 (ipykernel)",
   "language": "python",
   "name": "python3"
  },
  "language_info": {
   "codemirror_mode": {
    "name": "ipython",
    "version": 3
   },
   "file_extension": ".py",
   "mimetype": "text/x-python",
   "name": "python",
   "nbconvert_exporter": "python",
   "pygments_lexer": "ipython3",
   "version": "3.10.16"
  }
 },
 "nbformat": 4,
 "nbformat_minor": 5
}
