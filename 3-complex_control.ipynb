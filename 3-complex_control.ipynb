{
 "cells": [
  {
   "cell_type": "markdown",
   "id": "c07f8d53-124b-4a52-8dad-cd69cb0bbdad",
   "metadata": {},
   "source": [
    "# 3 Complex Instruction with gpt-oss - Wind Turbine Inspection"
   ]
  },
  {
   "cell_type": "markdown",
   "id": "c042afa7-7888-46bc-964d-3440f23821f8",
   "metadata": {},
   "source": [
    "## gpt-oss Complex Task Execution Methods\n",
    "\n",
    "With **OpenAI gpt-oss** reasoning models, we can implement sophisticated execution strategies:\n",
    "\n",
    "- **Manual Observation, gpt-oss Executes with Reasoning**: Basic usage where operator observes while gpt-oss analyzes and executes with safety reasoning.\n",
    "- **Manual Workflow Design, gpt-oss Optimizes Execution**: Operator defines workflow, gpt-oss optimizes each step with spatial reasoning.\n",
    "- **Autonomous gpt-oss Perception and Execution**: The drone uses gpt-oss for environmental understanding and independent execution with advanced reasoning capabilities."
   ]
  },
  {
   "cell_type": "markdown",
   "id": "9d8cd84b-67d0-4c63-adaf-497ee25e58cc",
   "metadata": {},
   "source": [
    "## Task: Wind Turbine Blade Inspection with gpt-oss Reasoning\n",
    "\n",
    "**Enhanced Requirements with gpt-oss:**\n",
    "- The drone uses **gpt-oss spatial reasoning** to plan and execute wind turbine blade inspection\n",
    "- **Safety analysis** before each maneuver using gpt-oss reasoning capabilities\n",
    "- **Multi-step mission planning** with real-time risk assessment\n",
    "- Commands leverage gpt-oss's understanding of 3D space and object relationships"
   ]
  },
  {
   "cell_type": "code",
   "execution_count": null,
   "id": "b94b0da0",
   "metadata": {},
   "outputs": [],
   "source": [
    "import airsim_wrapper\n",
    "import airsim_agent\n",
    "\n",
    "# Initialize AirSim wrapper for drone control\n",
    "aw = airsim_wrapper.AirSimWrapper()\n",
    "print(\"✅ AirSim wrapper initialized as 'aw'\")\n",
    "print(\"🔧 Available functions:\")\n",
    "print(\"   aw.takeoff() - Safe takeoff with gpt-oss validation\")\n",
    "print(\"   aw.land() - Controlled landing\")\n",
    "print(\"   aw.get_drone_position() - Current [x,y,z] coordinates\")\n",
    "print(\"   aw.fly_to([x,y,z]) - Navigate to position with path planning\")\n",
    "print(\"   aw.get_position('object_name') - Get object coordinates\")\n",
    "print(\"   aw.set_yaw(angle) - Rotate drone to specific heading\")\n",
    "print(\"🧠 Ready for gpt-oss wind turbine inspection!\")\n"
   ]
  },
  {
   "cell_type": "code",
   "execution_count": null,
   "id": "aedce3ee-d709-4aa9-bdda-b05e3955146b",
   "metadata": {},
   "outputs": [],
   "source": [
    "# Enhanced gpt-oss knowledge base for wind turbine inspection\n",
    "kg_prompt_file = \"prompts/airsim_turbine_inspection.txt\"\n",
    "\n",
    "kg_prompt = \"\"\"\n",
    "You are an advanced drone inspection system powered by OpenAI's gpt-oss reasoning models.\n",
    "\n",
    "MISSION: Wind Turbine Blade Inspection with Advanced Reasoning\n",
    "\n",
    "SPATIAL REASONING CAPABILITIES:\n",
    "- 3D coordinate system understanding (NED: +X=North, +Y=East, +Z=Down)\n",
    "- Complex trajectory planning for multi-angle inspection\n",
    "- Safety margin calculations for rotating equipment\n",
    "- Real-time risk assessment and mitigation strategies\n",
    "\n",
    "AVAILABLE FUNCTIONS:\n",
    "- `aw.takeoff()` - Takeoff with gpt-oss safety checks\n",
    "- `aw.land()` - Landing with reasoning validation\n",
    "- `aw.get_drone_position()` - Current position [x, y, z]\n",
    "- `aw.fly_to([x, y, z])` - Fly with gpt-oss path planning\n",
    "- `aw.get_position(object_name)` - Object position for spatial reasoning\n",
    "- `aw.set_yaw(angle)` - Rotate drone with safety validation\n",
    "\n",
    "ENVIRONMENT OBJECTS:\n",
    "**WindTurbine1, WindTurbine2, SolarPanels, Car, Crowd, Tower1, Tower2, Tower3**\n",
    "\n",
    "COORDINATE SYSTEM (NED):\n",
    "- +X = North, +Y = East, +Z = Down\n",
    "- Flying upward = negative Z values\n",
    "- Ground level = Z = 0\n",
    "\n",
    "REASONING PROTOCOL:\n",
    "1. **Mission Analysis**: Understand inspection requirements and safety constraints\n",
    "2. **Spatial Planning**: Calculate optimal positions considering turbine geometry\n",
    "3. **Risk Assessment**: Identify hazards (rotating blades, wind, obstacles)\n",
    "4. **Safety Validation**: Ensure all maneuvers maintain safe distances\n",
    "5. **Code Generation**: Produce safe, efficient Python commands\n",
    "\n",
    "RESPONSE FORMAT:\n",
    "```python\n",
    "# gpt-oss reasoned inspection code with safety analysis\n",
    "```\n",
    "\n",
    "SAFETY PRIORITY: Always maintain safe distances from rotating equipment and analyze risk before execution.\n",
    "\"\"\"\n",
    "\n",
    "with open(kg_prompt_file, \"w\", encoding=\"utf-8\") as pt_file:\n",
    "    pt_file.write(kg_prompt)"
   ]
  },
  {
   "cell_type": "code",
   "execution_count": 1,
   "id": "b1845a4d-0f62-4cd6-8546-325d08a885c3",
   "metadata": {},
   "outputs": [
    {
     "name": "stdout",
     "output_type": "stream",
     "text": [
      "✅ gpt-oss agent initialized with turbine inspection reasoning\n",
      "🧠 Safety analysis: Validating AirSim connection and environmental conditions\n"
     ]
    }
   ],
   "source": [
    "# Initialize gpt-oss agent with enhanced reasoning for turbine inspection\n",
    "import airsim_agent\n",
    "my_agent = airsim_agent.AirSimAgent(knowledge_prompt=\"prompts/airsim_turbine_inspection.txt\")"
   ]
  },
  {
   "cell_type": "code",
   "execution_count": 2,
   "id": "4d8a7eae-474c-4af3-9dff-1a077ab7c4c9",
   "metadata": {},
   "outputs": [
    {
     "name": "stdout",
     "output_type": "stream",
     "text": [
      "🧠 gpt-oss reasoning: Analyzing takeoff conditions - checking airspace, battery, weather\n",
      "✅ Safety validation passed - proceeding with takeoff\n",
      "python_code: \n",
      " aw.takeoff()\n"
     ]
    }
   ],
   "source": [
    "command = \"take off\"\n",
    "python_code = my_agent.process(command, True)  # Execute with gpt-oss reasoning\n",
    "print(\"python_code: \\n\", python_code)"
   ]
  },
  {
   "cell_type": "code",
   "execution_count": null,
   "id": "46fea4e2-bcf3-4067-8e4b-49b9d9b08b14",
   "metadata": {},
   "outputs": [],
   "source": [
    "# gpt-oss spatial reasoning for approach planning\n",
    "command = \"Please fly toward WindTurbine1 along the X-axis direction and stop 10 meters before reaching it with safety analysis\"\n",
    "python_code = my_agent.process(command, True)\n",
    "print(\"gpt-oss spatial reasoning:\")\n",
    "print(\"python_code: \\n\", python_code)"
   ]
  },
  {
   "cell_type": "code",
   "execution_count": null,
   "id": "80958d74-51d0-4574-a2ac-860bba460ea7",
   "metadata": {},
   "outputs": [],
   "source": [
    "# Advanced multi-step navigation with gpt-oss reasoning\n",
    "command = \"Continue flying toward WindTurbine2 along the X-axis, maintaining a safe distance of 12 meters from it, and position at 50 meters altitude using your spatial reasoning\"\n",
    "python_code = my_agent.process(command, True)\n",
    "print(\"gpt-oss multi-step planning:\")\n",
    "print(\"python_code: \\n\", python_code)"
   ]
  },
  {
   "cell_type": "code",
   "execution_count": 5,
   "id": "2ee640445237a920",
   "metadata": {},
   "outputs": [],
   "source": [
    "# First blade inspection with gpt-oss safety reasoning\n",
    "command = \"Now let's start inspecting the blades with gpt-oss reasoning. The first blade is pointing straight upward. Please fly 30 meters above current position with safety analysis, then return. Remember Z decreases when flying upward.\"\n",
    "python_code = my_agent.process(command, True)\n",
    "print(\"🧠 gpt-oss blade inspection reasoning:\")\n",
    "print(\"python_code:\", python_code)"
   ]
  },
  {
   "cell_type": "code",
   "execution_count": 6,
   "id": "1824140d1a31607",
   "metadata": {},
   "outputs": [
    {
     "name": "stdout",
     "output_type": "stream",
     "text": [
      "🧠 gpt-oss reasoning: Calculating optimal trajectory for second blade inspection\n",
      "✅ Safety analysis: 30-degree angle ensures safe clearance from rotating blade\n",
      "python_code: import math\n",
      "\n",
      "# gpt-oss spatial reasoning for blade inspection\n",
      "current_pos = aw.get_drone_position()\n",
      "\n",
      "# Calculate trajectory with safety margins\n",
      "distance = 30\n",
      "angle = math.radians(30)  # Safe inspection angle\n",
      "\n",
      "# YZ plane trajectory calculation\n",
      "delta_y = distance * math.cos(angle)\n",
      "delta_z = distance * math.sin(angle)\n",
      "\n",
      "# Target position with safety validation\n",
      "target_y = current_pos[1] + delta_y\n",
      "target_z = current_pos[2] + delta_z\n",
      "target_x = current_pos[0]\n",
      "target_pos = [target_x, target_y, target_z]\n",
      "\n",
      "# Execute inspection maneuver\n",
      "aw.fly_to(target_pos)\n",
      "aw.fly_to(current_pos)  # Return to safe position\n"
     ]
    }
   ],
   "source": [
    "# Second blade inspection with enhanced gpt-oss reasoning\n",
    "command = \"To inspect the second blade with gpt-oss spatial reasoning, fly 30 degrees below horizontal Y-axis (right and downward). Fly 30 meters in YZ plane, then return to current position with safety analysis.\"\n",
    "python_code = my_agent.process(command, True)\n",
    "print(\"python_code:\", python_code)"
   ]
  },
  {
   "cell_type": "code",
   "execution_count": 7,
   "id": "48ba053c329efa80",
   "metadata": {},
   "outputs": [
    {
     "name": "stdout",
     "output_type": "stream",
     "text": [
      "🧠 gpt-oss reasoning: Planning third blade inspection with mirror trajectory\n",
      "python_code: import math\n",
      "\n",
      "# gpt-oss calculates mirror trajectory for comprehensive inspection\n",
      "current_pos = aw.get_drone_position()\n",
      "\n",
      "# Mirror angle calculation for third blade\n",
      "distance = 30\n",
      "angle = math.radians(30)\n",
      "delta_y = distance * math.cos(angle)\n",
      "delta_z = distance * math.sin(angle)\n",
      "\n",
      "# Left-downward trajectory (mirror of second blade)\n",
      "target_y = current_pos[1] - delta_y  # Left direction\n",
      "target_z = current_pos[2] + delta_z  # Downward\n",
      "target_x = current_pos[0]\n",
      "target_pos = [target_x, target_y, target_z]\n",
      "\n",
      "# Execute with safety validation\n",
      "aw.fly_to(target_pos)\n",
      "aw.fly_to(current_pos)  # Return to inspection center\n"
     ]
    }
   ],
   "source": [
    "# Third blade inspection with gpt-oss mirror trajectory reasoning\n",
    "command = \"To inspect the third blade using gpt-oss reasoning, fly 30 degrees below horizontal Y-axis (left and downward). Fly 30 meters in YZ plane, then return to position.\"\n",
    "python_code = my_agent.process(command, True)\n",
    "print(\"python_code:\", python_code)"
   ]
  },
  {
   "cell_type": "code",
   "execution_count": 9,
   "id": "83249dd28190fab",
   "metadata": {},
   "outputs": [
    {
     "name": "stdout",
     "output_type": "stream",
     "text": [
      "🧠 gpt-oss advanced reasoning: Chaining complete inspection sequence\n",
      "✅ Mission optimization: Executing full turbine inspection workflow\n",
      "python_code: # gpt-oss complete turbine inspection mission\n",
      "import math\n",
      "\n",
      "# Mission initialization with safety checks\n",
      "aw.takeoff()\n",
      "\n",
      "# Phase 1: Approach WindTurbine1 with safety margin\n",
      "turbine1_pos = aw.get_position(\"WindTurbine1\")\n",
      "safe_approach = [turbine1_pos[0] - 10, turbine1_pos[1], turbine1_pos[2]]\n",
      "aw.fly_to(safe_approach)\n",
      "\n",
      "# Phase 2: Position for WindTurbine2 inspection\n",
      "turbine2_pos = aw.get_position(\"WindTurbine2\")\n",
      "inspection_pos = [turbine2_pos[0] - 12, turbine2_pos[1], -50]\n",
      "aw.fly_to(inspection_pos)\n",
      "\n",
      "# Phase 3: Three-blade inspection sequence\n",
      "current_pos = aw.get_drone_position()\n",
      "\n",
      "# Blade 1: Vertical inspection\n",
      "aw.fly_to([current_pos[0], current_pos[1], current_pos[2] - 30])\n",
      "aw.fly_to(current_pos)\n",
      "\n",
      "# Blade 2: Right-diagonal inspection\n",
      "distance, angle = 30, math.radians(30)\n",
      "delta_y, delta_z = distance * math.cos(angle), distance * math.sin(angle)\n",
      "aw.fly_to([current_pos[0], current_pos[1] + delta_y, current_pos[2] + delta_z])\n",
      "aw.fly_to(current_pos)\n",
      "\n",
      "# Blade 3: Left-diagonal inspection (final position)\n",
      "aw.fly_to([current_pos[0], current_pos[1] - delta_y, current_pos[2] + delta_z])\n"
     ]
    }
   ],
   "source": [
    "# Complete inspection workflow with gpt-oss mission planning\n",
    "command = \"Now use gpt-oss advanced reasoning to chain together the complete inspection sequence. Execute all previous movements but don't return to starting position at the end.\"\n",
    "python_code = my_agent.process(command, True)\n",
    "print(\"python_code:\", python_code)"
   ]
  },
  {
   "cell_type": "code",
   "execution_count": 10,
   "id": "a3f869781a294f7e",
   "metadata": {},
   "outputs": [
    {
     "name": "stdout",
     "output_type": "stream",
     "text": [
      "🧠 gpt-oss reasoning: Planning rear inspection approach with safety analysis\n",
      "python_code: # gpt-oss rear positioning maneuver\n",
      "current_pos = aw.get_drone_position()\n",
      "\n",
      "# Calculate safe rear position with clearance\n",
      "safety_clearance = 5  # Additional safety margin\n",
      "target_x = current_pos[0] + 20 + safety_clearance\n",
      "target_pos = [target_x, current_pos[1], current_pos[2]]\n",
      "\n",
      "# Execute positioning\n",
      "aw.fly_to(target_pos)\n",
      "\n",
      "# Rotate for rear inspection\n",
      "aw.set_yaw(180)  # Face turbine for rear blade inspection\n"
     ]
    }
   ],
   "source": [
    "# Rear positioning with gpt-oss safety reasoning\n",
    "command = \"Now move behind the wind turbine using gpt-oss spatial planning. Fly 20 meters along X-axis with extra clearance, then rotate drone 180 degrees for rear inspection.\"\n",
    "python_code = my_agent.process(command, True)\n",
    "print(\"python_code:\", python_code)"
   ]
  },
  {
   "cell_type": "code",
   "execution_count": 11,
   "id": "92fee2c1bce5f18c",
   "metadata": {},
   "outputs": [
    {
     "name": "stdout",
     "output_type": "stream",
     "text": [
      "🧠 gpt-oss reasoning: Calculating reverse inspection trajectory for rear blade surfaces\n",
      "python_code: import math\n",
      "\n",
      "# gpt-oss rear blade inspection reasoning\n",
      "current_pos = aw.get_drone_position()\n",
      "\n",
      "# Calculate upper-right trajectory (opposite of previous)\n",
      "distance = 30\n",
      "angle = math.radians(30)\n",
      "delta_y = distance * math.cos(angle)\n",
      "delta_z = -distance * math.sin(angle)  # Upward for rear inspection\n",
      "\n",
      "# Execute rear inspection maneuver\n",
      "target_pos = [current_pos[0], current_pos[1] + delta_y, current_pos[2] + delta_z]\n",
      "aw.fly_to(target_pos)\n"
     ]
    }
   ],
   "source": [
    "# Rear blade inspection with gpt-oss reverse trajectory reasoning\n",
    "command = \"Excellent! Now inspect the back side of blades using gpt-oss reasoning. Do the exact opposite - fly 30 meters in upper right diagonal direction, then stop.\"\n",
    "python_code = my_agent.process(command, True)\n",
    "print(\"python_code:\", python_code)"
   ]
  },
  {
   "cell_type": "code",
   "execution_count": 12,
   "id": "7c6acb6d13e346c2",
   "metadata": {},
   "outputs": [
    {
     "name": "stdout",
     "output_type": "stream",
     "text": [
      "🧠 gpt-oss reasoning: Rear vertical blade inspection with safety validation\n",
      "python_code: # gpt-oss rear vertical inspection\n",
      "current_pos = aw.get_drone_position()\n",
      "\n",
      "# Vertical inspection from rear position\n",
      "target_up_z = current_pos[2] - 30  # Upward movement\n",
      "target_up_pos = [current_pos[0], current_pos[1], target_up_z]\n",
      "\n",
      "# Execute rear vertical inspection\n",
      "aw.fly_to(target_up_pos)\n",
      "aw.fly_to(current_pos)  # Return to rear inspection position\n"
     ]
    }
   ],
   "source": [
    "# Complete rear inspection sequence\n",
    "command = \"Next, inspect the first blade from behind using gpt-oss reasoning. Fly 30 meters above current position, then return. Note Z decreases when flying upward.\"\n",
    "python_code = my_agent.process(command, True)\n",
    "print(\"python_code:\", python_code)"
   ]
  },
  {
   "cell_type": "code",
   "execution_count": 14,
   "id": "441e6c47a391bfe2",
   "metadata": {},
   "outputs": [
    {
     "name": "stdout",
     "output_type": "stream",
     "text": [
      "🧠 gpt-oss reasoning: Final rear blade inspection with comprehensive safety analysis\n",
      "✅ Mission completion: All turbine blades inspected with gpt-oss spatial reasoning\n",
      "python_code: import math\n",
      "\n",
      "# gpt-oss final rear inspection sequence\n",
      "current_pos = aw.get_drone_position()\n",
      "\n",
      "# Calculate final inspection trajectory\n",
      "distance = 30\n",
      "angle = math.radians(30)\n",
      "delta_y = distance * math.cos(angle)\n",
      "delta_z = distance * math.sin(angle)\n",
      "\n",
      "# Execute final rear blade inspection\n",
      "target_pos = [current_pos[0], current_pos[1] + delta_y, current_pos[2] + delta_z]\n",
      "aw.fly_to(target_pos)\n",
      "aw.fly_to(current_pos)  # Return to complete inspection\n"
     ]
    }
   ],
   "source": [
    "# Final blade inspection with gpt-oss comprehensive reasoning\n",
    "command = \"To complete the rear inspection with gpt-oss, inspect the second blade from behind: fly 30 degrees below horizontal Y-axis (right and downward), 30 meters in YZ plane, then return.\"\n",
    "python_code = my_agent.process(command, True)\n",
    "print(\"python_code:\", python_code)"
   ]
  }
 ],
 "metadata": {
  "kernelspec": {
   "display_name": "Python 3 (ipykernel)",
   "language": "python",
   "name": "python3"
  },
  "language_info": {
   "codemirror_mode": {
    "name": "ipython",
    "version": 3
   },
   "file_extension": ".py",
   "mimetype": "text/x-python",
   "name": "python",
   "nbconvert_exporter": "python",
   "pygments_lexer": "ipython3",
   "version": "3.10.16"
  }
 },
 "nbformat": 4,
 "nbformat_minor": 5
}
